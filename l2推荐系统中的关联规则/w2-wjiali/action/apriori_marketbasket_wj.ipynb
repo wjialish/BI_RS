{
 "cells": [
  {
   "cell_type": "code",
   "execution_count": 75,
   "metadata": {
    "ExecuteTime": {
     "end_time": "2020-11-14T07:17:58.462303Z",
     "start_time": "2020-11-14T07:17:58.459370Z"
    }
   },
   "outputs": [],
   "source": [
    "import pandas as pd"
   ]
  },
  {
   "cell_type": "code",
   "execution_count": 76,
   "metadata": {
    "ExecuteTime": {
     "end_time": "2020-11-14T07:17:58.957722Z",
     "start_time": "2020-11-14T07:17:58.949951Z"
    }
   },
   "outputs": [],
   "source": [
    "#采用efficient_apriori 工具包\n",
    "def rule1():\n",
    "    from efficient_apriori import apriori\n",
    "    data=pd.read_csv('./Market_Basket_Optimisation.csv',header = None)\n",
    "    print(data.shape)\n",
    "    #将数据进行格式转换\n",
    "    transactions = []\n",
    "    for i in range(0,data.shape[0]):\n",
    "        item = []\n",
    "        for j in range(0,20):\n",
    "            if str(data.values[i,j]) != 'nan':\n",
    "                item.append(data.values[i,j])\n",
    "        transactions.append(item)\n",
    "\n",
    "    # 挖掘频繁项集和关联规则\n",
    "    itemsets,rules = apriori(transactions,min_support=0.02,min_confidence=0.3)\n",
    "    print('-'*20,'频繁项集','-'*20)\n",
    "    print(itemsets)\n",
    "    print('-'*20,'关联规则','-'*20)\n",
    "    print(rules)\n",
    "    \n",
    "                "
   ]
  },
  {
   "cell_type": "code",
   "execution_count": 77,
   "metadata": {
    "ExecuteTime": {
     "end_time": "2020-11-14T07:18:02.631893Z",
     "start_time": "2020-11-14T07:17:59.553842Z"
    }
   },
   "outputs": [
    {
     "name": "stdout",
     "output_type": "stream",
     "text": [
      "(7501, 20)\n",
      "-------------------- 频繁项集 --------------------\n",
      "{1: {('almonds',): 153, ('avocado',): 250, ('brownies',): 253, ('burgers',): 654, ('butter',): 226, ('cake',): 608, ('cereals',): 193, ('champagne',): 351, ('chicken',): 450, ('chocolate',): 1229, ('cookies',): 603, ('cooking oil',): 383, ('cottage cheese',): 239, ('eggs',): 1348, ('energy bar',): 203, ('energy drink',): 200, ('escalope',): 595, ('french fries',): 1282, ('french wine',): 169, ('fresh bread',): 323, ('fresh tuna',): 167, ('frozen smoothie',): 475, ('frozen vegetables',): 715, ('grated cheese',): 393, ('green tea',): 991, ('ground beef',): 737, ('ham',): 199, ('herb & pepper',): 371, ('honey',): 356, ('hot dogs',): 243, ('light mayo',): 204, ('low fat yogurt',): 574, ('meatballs',): 157, ('milk',): 972, ('mineral water',): 1788, ('muffins',): 181, ('oil',): 173, ('olive oil',): 494, ('pancakes',): 713, ('pepper',): 199, ('red wine',): 211, ('salmon',): 319, ('shrimp',): 536, ('soup',): 379, ('spaghetti',): 1306, ('strawberries',): 160, ('tomato juice',): 228, ('tomatoes',): 513, ('turkey',): 469, ('vegetables mix',): 193, ('whole wheat pasta',): 221, ('whole wheat rice',): 439, ('yogurt cake',): 205}, 2: {('burgers', 'eggs'): 216, ('burgers', 'french fries'): 165, ('burgers', 'mineral water'): 183, ('burgers', 'spaghetti'): 161, ('cake', 'mineral water'): 206, ('chicken', 'mineral water'): 171, ('chocolate', 'eggs'): 249, ('chocolate', 'french fries'): 258, ('chocolate', 'frozen vegetables'): 172, ('chocolate', 'green tea'): 176, ('chocolate', 'ground beef'): 173, ('chocolate', 'milk'): 241, ('chocolate', 'mineral water'): 395, ('chocolate', 'spaghetti'): 294, ('cooking oil', 'mineral water'): 151, ('eggs', 'french fries'): 273, ('eggs', 'frozen vegetables'): 163, ('eggs', 'green tea'): 191, ('eggs', 'milk'): 231, ('eggs', 'mineral water'): 382, ('eggs', 'pancakes'): 163, ('eggs', 'spaghetti'): 274, ('french fries', 'green tea'): 214, ('french fries', 'milk'): 178, ('french fries', 'mineral water'): 253, ('french fries', 'pancakes'): 151, ('french fries', 'spaghetti'): 207, ('frozen smoothie', 'mineral water'): 152, ('frozen vegetables', 'milk'): 177, ('frozen vegetables', 'mineral water'): 268, ('frozen vegetables', 'spaghetti'): 209, ('green tea', 'mineral water'): 233, ('green tea', 'spaghetti'): 199, ('ground beef', 'milk'): 165, ('ground beef', 'mineral water'): 307, ('ground beef', 'spaghetti'): 294, ('low fat yogurt', 'mineral water'): 180, ('milk', 'mineral water'): 360, ('milk', 'spaghetti'): 266, ('mineral water', 'olive oil'): 207, ('mineral water', 'pancakes'): 253, ('mineral water', 'shrimp'): 177, ('mineral water', 'soup'): 173, ('mineral water', 'spaghetti'): 448, ('mineral water', 'tomatoes'): 183, ('mineral water', 'whole wheat rice'): 151, ('olive oil', 'spaghetti'): 172, ('pancakes', 'spaghetti'): 189, ('shrimp', 'spaghetti'): 159, ('spaghetti', 'tomatoes'): 157}}\n",
      "-------------------- 关联规则 --------------------\n",
      "[{burgers} -> {eggs}, {cake} -> {mineral water}, {chicken} -> {mineral water}, {chocolate} -> {mineral water}, {cooking oil} -> {mineral water}, {frozen smoothie} -> {mineral water}, {frozen vegetables} -> {mineral water}, {ground beef} -> {mineral water}, {ground beef} -> {spaghetti}, {low fat yogurt} -> {mineral water}, {milk} -> {mineral water}, {olive oil} -> {mineral water}, {pancakes} -> {mineral water}, {shrimp} -> {mineral water}, {soup} -> {mineral water}, {spaghetti} -> {mineral water}, {tomatoes} -> {mineral water}, {whole wheat rice} -> {mineral water}, {olive oil} -> {spaghetti}, {tomatoes} -> {spaghetti}]\n"
     ]
    }
   ],
   "source": [
    "rule1()"
   ]
  },
  {
   "cell_type": "code",
   "execution_count": 78,
   "metadata": {
    "ExecuteTime": {
     "end_time": "2020-11-14T07:18:03.662672Z",
     "start_time": "2020-11-14T07:18:03.659724Z"
    }
   },
   "outputs": [],
   "source": [
    "def encode_units(x):\n",
    "    if x <= 0:\n",
    "        return 0\n",
    "    if x >= 1:\n",
    "        return 1"
   ]
  },
  {
   "cell_type": "code",
   "execution_count": 79,
   "metadata": {
    "ExecuteTime": {
     "end_time": "2020-11-14T07:18:04.081254Z",
     "start_time": "2020-11-14T07:18:04.069478Z"
    }
   },
   "outputs": [],
   "source": [
    "#采用mlxtend 工具包\n",
    "def rule2():\n",
    "    from mlxtend.frequent_patterns import apriori\n",
    "    from mlxtend.frequent_patterns import association_rules\n",
    "    data=pd.read_csv('./Market_Basket_Optimisation.csv',header = None)\n",
    "\n",
    "    print(data.shape)\n",
    "#     print(data.head())\n",
    "    data=data.fillna(0)\n",
    "    \n",
    "    #将数据进行格式转换\n",
    "    transactions = []\n",
    "        \n",
    "    for i in range(len(data)):\n",
    "        item_set = set()\n",
    "        for index,item in data.loc[i].items():\n",
    "            if item != 0:\n",
    "                item_set.add(item)\n",
    "        transactions.append(item_set)\n",
    "    \n",
    "    print('-'*80)\n",
    "    print(transactions[0])\n",
    "    \n",
    "\n",
    "    index_id = []\n",
    "    items = []\n",
    "    \n",
    "    for m in range(len(transactions)):\n",
    "        for n in transactions[m]: \n",
    "            index_id.append(m)\n",
    "            items.append(n)\n",
    "    \n",
    "    # index_id和items重组成dataframe\n",
    "    data = pd.DataFrame({'index_id':index_id,'items':items})\n",
    "    \n",
    "    print(data.head())\n",
    "    \n",
    "    items_hotencoded_df = data.groupby(['index_id','items'])['items'].count().unstack().reset_index().fillna(0).set_index('index_id')\n",
    "    items_hotencoded_df = items_hotencoded_df.applymap(encode_units)\n",
    "    \n",
    "    itemsets = apriori(items_hotencoded_df,min_support=0.05,use_colnames=True)\n",
    "    rules = association_rules(itemsets,metric='lift',min_threshold=0.5)\n",
    "    \n",
    "    print('-'*20,'频繁项集','-'*20)\n",
    "    print(itemsets)\n",
    "    print('-'*20,'关联规则','-'*20)\n",
    "    print(rules)\n"
   ]
  },
  {
   "cell_type": "code",
   "execution_count": 80,
   "metadata": {
    "ExecuteTime": {
     "end_time": "2020-11-14T07:18:06.885582Z",
     "start_time": "2020-11-14T07:18:04.593126Z"
    },
    "scrolled": false
   },
   "outputs": [
    {
     "name": "stdout",
     "output_type": "stream",
     "text": [
      "(7501, 20)\n",
      "--------------------------------------------------------------------------------\n",
      "{'salad', 'cottage cheese', 'antioxydant juice', 'low fat yogurt', 'whole weat flour', 'shrimp', 'tomato juice', 'green grapes', 'frozen smoothie', 'avocado', 'energy drink', 'vegetables mix', 'honey', 'mineral water', 'green tea', 'salmon', 'yams', 'almonds', 'spinach', 'olive oil'}\n",
      "   index_id              items\n",
      "0         0              salad\n",
      "1         0     cottage cheese\n",
      "2         0  antioxydant juice\n",
      "3         0     low fat yogurt\n",
      "4         0   whole weat flour\n",
      "-------------------- 频繁项集 --------------------\n",
      "     support                    itemsets\n",
      "0   0.087188                   (burgers)\n",
      "1   0.081056                      (cake)\n",
      "2   0.059992                   (chicken)\n",
      "3   0.163845                 (chocolate)\n",
      "4   0.080389                   (cookies)\n",
      "5   0.051060               (cooking oil)\n",
      "6   0.179709                      (eggs)\n",
      "7   0.079323                  (escalope)\n",
      "8   0.170911              (french fries)\n",
      "9   0.063325           (frozen smoothie)\n",
      "10  0.095321         (frozen vegetables)\n",
      "11  0.052393             (grated cheese)\n",
      "12  0.132116                 (green tea)\n",
      "13  0.098254               (ground beef)\n",
      "14  0.076523            (low fat yogurt)\n",
      "15  0.129583                      (milk)\n",
      "16  0.238368             (mineral water)\n",
      "17  0.065858                 (olive oil)\n",
      "18  0.095054                  (pancakes)\n",
      "19  0.071457                    (shrimp)\n",
      "20  0.050527                      (soup)\n",
      "21  0.174110                 (spaghetti)\n",
      "22  0.068391                  (tomatoes)\n",
      "23  0.062525                    (turkey)\n",
      "24  0.058526          (whole wheat rice)\n",
      "25  0.052660  (mineral water, chocolate)\n",
      "26  0.050927       (mineral water, eggs)\n",
      "27  0.059725  (mineral water, spaghetti)\n",
      "-------------------- 关联规则 --------------------\n",
      "       antecedents      consequents  antecedent support  consequent support  \\\n",
      "0  (mineral water)      (chocolate)            0.238368            0.163845   \n",
      "1      (chocolate)  (mineral water)            0.163845            0.238368   \n",
      "2  (mineral water)           (eggs)            0.238368            0.179709   \n",
      "3           (eggs)  (mineral water)            0.179709            0.238368   \n",
      "4  (mineral water)      (spaghetti)            0.238368            0.174110   \n",
      "5      (spaghetti)  (mineral water)            0.174110            0.238368   \n",
      "\n",
      "    support  confidence      lift  leverage  conviction  \n",
      "0  0.052660    0.220917  1.348332  0.013604    1.073256  \n",
      "1  0.052660    0.321400  1.348332  0.013604    1.122357  \n",
      "2  0.050927    0.213647  1.188845  0.008090    1.043158  \n",
      "3  0.050927    0.283383  1.188845  0.008090    1.062815  \n",
      "4  0.059725    0.250559  1.439085  0.018223    1.102008  \n",
      "5  0.059725    0.343032  1.439085  0.018223    1.159314  \n"
     ]
    }
   ],
   "source": [
    "rule2()"
   ]
  },
  {
   "cell_type": "code",
   "execution_count": null,
   "metadata": {},
   "outputs": [],
   "source": []
  }
 ],
 "metadata": {
  "kernelspec": {
   "display_name": "Python 3",
   "language": "python",
   "name": "python3"
  },
  "language_info": {
   "codemirror_mode": {
    "name": "ipython",
    "version": 3
   },
   "file_extension": ".py",
   "mimetype": "text/x-python",
   "name": "python",
   "nbconvert_exporter": "python",
   "pygments_lexer": "ipython3",
   "version": "3.7.3"
  },
  "toc": {
   "base_numbering": 1,
   "nav_menu": {},
   "number_sections": true,
   "sideBar": true,
   "skip_h1_title": false,
   "title_cell": "Table of Contents",
   "title_sidebar": "Contents",
   "toc_cell": false,
   "toc_position": {},
   "toc_section_display": true,
   "toc_window_display": false
  },
  "varInspector": {
   "cols": {
    "lenName": 16,
    "lenType": 16,
    "lenVar": 40
   },
   "kernels_config": {
    "python": {
     "delete_cmd_postfix": "",
     "delete_cmd_prefix": "del ",
     "library": "var_list.py",
     "varRefreshCmd": "print(var_dic_list())"
    },
    "r": {
     "delete_cmd_postfix": ") ",
     "delete_cmd_prefix": "rm(",
     "library": "var_list.r",
     "varRefreshCmd": "cat(var_dic_list()) "
    }
   },
   "types_to_exclude": [
    "module",
    "function",
    "builtin_function_or_method",
    "instance",
    "_Feature"
   ],
   "window_display": false
  }
 },
 "nbformat": 4,
 "nbformat_minor": 2
}
