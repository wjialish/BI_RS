{
 "cells": [
  {
   "cell_type": "code",
   "execution_count": 1,
   "metadata": {
    "ExecuteTime": {
     "end_time": "2020-11-10T07:59:34.489218Z",
     "start_time": "2020-11-10T07:59:34.017393Z"
    }
   },
   "outputs": [],
   "source": [
    "#分析movieLens 电影分类中的频繁项集和关联规则\n",
    "import pandas as pd\n",
    "from mlxtend.frequent_patterns import apriori\n",
    "from mlxtend.frequent_patterns import association_rules"
   ]
  },
  {
   "cell_type": "code",
   "execution_count": 2,
   "metadata": {
    "ExecuteTime": {
     "end_time": "2020-11-10T07:59:34.683960Z",
     "start_time": "2020-11-10T07:59:34.620211Z"
    }
   },
   "outputs": [
    {
     "name": "stdout",
     "output_type": "stream",
     "text": [
      "   movieId                               title  \\\n",
      "0        1                    Toy Story (1995)   \n",
      "1        2                      Jumanji (1995)   \n",
      "2        3             Grumpier Old Men (1995)   \n",
      "3        4            Waiting to Exhale (1995)   \n",
      "4        5  Father of the Bride Part II (1995)   \n",
      "\n",
      "                                        genres  \n",
      "0  Adventure|Animation|Children|Comedy|Fantasy  \n",
      "1                   Adventure|Children|Fantasy  \n",
      "2                               Comedy|Romance  \n",
      "3                         Comedy|Drama|Romance  \n",
      "4                                       Comedy  \n"
     ]
    }
   ],
   "source": [
    "# 数据加载\n",
    "movies = pd.read_csv('./movies.csv')\n",
    "print(movies.head())"
   ]
  },
  {
   "cell_type": "code",
   "execution_count": 3,
   "metadata": {
    "ExecuteTime": {
     "end_time": "2020-11-10T07:59:45.235006Z",
     "start_time": "2020-11-10T07:59:44.618619Z"
    }
   },
   "outputs": [],
   "source": [
    "#将genres进行one-hot编码（离散特征有多少取值，就用多少维来表示这个特征）\n",
    "# get_dummies 是利用pandas实现one hot encode的方式\n",
    "movies_hot_encoded = movies.drop('genres',1).join(movies.genres.str.get_dummies(sep='|'))\n",
    "#print(movies_hot_encoded)"
   ]
  },
  {
   "cell_type": "code",
   "execution_count": 5,
   "metadata": {
    "ExecuteTime": {
     "end_time": "2020-11-10T08:00:47.152873Z",
     "start_time": "2020-11-10T08:00:47.150394Z"
    }
   },
   "outputs": [],
   "source": [
    "pd.options.display.max_columns = 100"
   ]
  },
  {
   "cell_type": "code",
   "execution_count": 6,
   "metadata": {
    "ExecuteTime": {
     "end_time": "2020-11-10T08:03:26.422322Z",
     "start_time": "2020-11-10T08:03:26.337695Z"
    }
   },
   "outputs": [
    {
     "name": "stdout",
     "output_type": "stream",
     "text": [
      "                                            (no genres listed)  Action  \\\n",
      "movieId title                                                            \n",
      "1       Toy Story (1995)                                     0       0   \n",
      "2       Jumanji (1995)                                       0       0   \n",
      "3       Grumpier Old Men (1995)                              0       0   \n",
      "4       Waiting to Exhale (1995)                             0       0   \n",
      "5       Father of the Bride Part II (1995)                   0       0   \n",
      "\n",
      "                                            Adventure  Animation  Children  \\\n",
      "movieId title                                                                \n",
      "1       Toy Story (1995)                            1          1         1   \n",
      "2       Jumanji (1995)                              1          0         1   \n",
      "3       Grumpier Old Men (1995)                     0          0         0   \n",
      "4       Waiting to Exhale (1995)                    0          0         0   \n",
      "5       Father of the Bride Part II (1995)          0          0         0   \n",
      "\n",
      "                                            Comedy  Crime  Documentary  Drama  \\\n",
      "movieId title                                                                   \n",
      "1       Toy Story (1995)                         1      0            0      0   \n",
      "2       Jumanji (1995)                           0      0            0      0   \n",
      "3       Grumpier Old Men (1995)                  1      0            0      0   \n",
      "4       Waiting to Exhale (1995)                 1      0            0      1   \n",
      "5       Father of the Bride Part II (1995)       1      0            0      0   \n",
      "\n",
      "                                            Fantasy  Film-Noir  Horror  IMAX  \\\n",
      "movieId title                                                                  \n",
      "1       Toy Story (1995)                          1          0       0     0   \n",
      "2       Jumanji (1995)                            1          0       0     0   \n",
      "3       Grumpier Old Men (1995)                   0          0       0     0   \n",
      "4       Waiting to Exhale (1995)                  0          0       0     0   \n",
      "5       Father of the Bride Part II (1995)        0          0       0     0   \n",
      "\n",
      "                                            Musical  Mystery  Romance  Sci-Fi  \\\n",
      "movieId title                                                                   \n",
      "1       Toy Story (1995)                          0        0        0       0   \n",
      "2       Jumanji (1995)                            0        0        0       0   \n",
      "3       Grumpier Old Men (1995)                   0        0        1       0   \n",
      "4       Waiting to Exhale (1995)                  0        0        1       0   \n",
      "5       Father of the Bride Part II (1995)        0        0        0       0   \n",
      "\n",
      "                                            Thriller  War  Western  \n",
      "movieId title                                                       \n",
      "1       Toy Story (1995)                           0    0        0  \n",
      "2       Jumanji (1995)                             0    0        0  \n",
      "3       Grumpier Old Men (1995)                    0    0        0  \n",
      "4       Waiting to Exhale (1995)                   0    0        0  \n",
      "5       Father of the Bride Part II (1995)         0    0        0  \n"
     ]
    }
   ],
   "source": [
    "# 将movieId，title 设置为index\n",
    "movies_hot_encoded.set_index(['movieId','title'],inplace=True)\n",
    "print(movies_hot_encoded.head())"
   ]
  },
  {
   "cell_type": "code",
   "execution_count": 16,
   "metadata": {
    "ExecuteTime": {
     "end_time": "2020-11-10T08:49:45.878099Z",
     "start_time": "2020-11-10T08:49:45.098348Z"
    }
   },
   "outputs": [],
   "source": [
    "# 挖掘频繁项集，最小支持度为0.02\n",
    "itemsets = apriori(movies_hot_encoded,use_colnames=True,min_support=0.002)"
   ]
  },
  {
   "cell_type": "code",
   "execution_count": 17,
   "metadata": {
    "ExecuteTime": {
     "end_time": "2020-11-10T08:49:46.678684Z",
     "start_time": "2020-11-10T08:49:46.658693Z"
    }
   },
   "outputs": [
    {
     "name": "stdout",
     "output_type": "stream",
     "text": [
      "-------------------- 频繁项集 --------------------\n",
      "      support                                itemsets\n",
      "8    0.489185                                 (Drama)\n",
      "5    0.306987                                (Comedy)\n",
      "17   0.153164                              (Thriller)\n",
      "15   0.151294                               (Romance)\n",
      "1    0.129042                                (Action)\n",
      "6    0.107743                                 (Crime)\n",
      "11   0.095718                                (Horror)\n",
      "89   0.094325                        (Drama, Romance)\n",
      "65   0.093335                         (Drama, Comedy)\n",
      "7    0.090586                           (Documentary)\n",
      "2    0.085380                             (Adventure)\n",
      "70   0.069470                       (Comedy, Romance)\n",
      "91   0.068480                       (Drama, Thriller)\n",
      "16   0.063898                                (Sci-Fi)\n",
      "75   0.062761                          (Crime, Drama)\n",
      "14   0.055503                               (Mystery)\n",
      "9    0.051763                               (Fantasy)\n",
      "80   0.045165                       (Crime, Thriller)\n",
      "25   0.044101                         (Action, Drama)\n",
      "18   0.043772                                   (War)\n",
      "4    0.041755                              (Children)\n",
      "32   0.040655                      (Action, Thriller)\n",
      "105  0.039336                      (Horror, Thriller)\n",
      "13   0.037979                               (Musical)\n",
      "3    0.037649                             (Animation)\n",
      "20   0.035633                     (Action, Adventure)\n",
      "92   0.032774                            (War, Drama)\n",
      "110  0.029144                     (Mystery, Thriller)\n",
      "24   0.028118                         (Action, Crime)\n",
      "178  0.027458                (Drama, Comedy, Romance)\n",
      "..        ...                                     ...\n",
      "196  0.002639            (Drama, Thriller, Film-Noir)\n",
      "173  0.002639                (Crime, Comedy, Romance)\n",
      "132  0.002603                (Sci-Fi, Action, Comedy)\n",
      "219  0.002566      (Horror, Drama, Thriller, Mystery)\n",
      "55   0.002566                    (Romance, Animation)\n",
      "164  0.002530           (Sci-Fi, Thriller, Adventure)\n",
      "150  0.002530            (Drama, Adventure, Children)\n",
      "210  0.002493             (Sci-Fi, Thriller, Mystery)\n",
      "130  0.002456               (Action, Comedy, Fantasy)\n",
      "118  0.002420           (Action, Adventure, Children)\n",
      "205  0.002420                  (War, Drama, Thriller)\n",
      "100  0.002383                    (Mystery, Film-Noir)\n",
      "189  0.002383            (Crime, Thriller, Film-Noir)\n",
      "158  0.002383             (Drama, Adventure, Fantasy)\n",
      "194  0.002346               (Mystery, Drama, Fantasy)\n",
      "155  0.002346             (Sci-Fi, Comedy, Adventure)\n",
      "206  0.002346             (Horror, Thriller, Fantasy)\n",
      "213  0.002346       (Action, Crime, Thriller, Comedy)\n",
      "217  0.002310  (Comedy, Adventure, Fantasy, Children)\n",
      "148  0.002310          (Sci-Fi, Adventure, Animation)\n",
      "106  0.002310                          (Sci-Fi, IMAX)\n",
      "211  0.002200    (Action, Drama, Adventure, Thriller)\n",
      "157  0.002200            (Crime, Thriller, Adventure)\n",
      "212  0.002126         (Action, War, Drama, Adventure)\n",
      "209  0.002126            (Mystery, Thriller, Romance)\n",
      "190  0.002090                (Horror, Crime, Mystery)\n",
      "170  0.002053             (Comedy, Children, Musical)\n",
      "156  0.002016               (Crime, Drama, Adventure)\n",
      "180  0.002016                    (War, Drama, Comedy)\n",
      "162  0.002016           (Adventure, Fantasy, Romance)\n",
      "\n",
      "[220 rows x 2 columns]\n"
     ]
    }
   ],
   "source": [
    "# 按照支持度从大到小进行\n",
    "itemsets = itemsets.sort_values(by='support',ascending=False)\n",
    "print('-'*20,'频繁项集','-'*20)\n",
    "print(itemsets)"
   ]
  },
  {
   "cell_type": "code",
   "execution_count": 19,
   "metadata": {
    "ExecuteTime": {
     "end_time": "2020-11-10T08:51:59.026364Z",
     "start_time": "2020-11-10T08:51:59.007021Z"
    }
   },
   "outputs": [],
   "source": [
    "# 根据频繁项集计算关联规则，设置最小提升度为2\n",
    "rules = association_rules(itemsets,metric='lift',min_threshold=2)"
   ]
  },
  {
   "cell_type": "code",
   "execution_count": 21,
   "metadata": {
    "ExecuteTime": {
     "end_time": "2020-11-10T11:07:40.810749Z",
     "start_time": "2020-11-10T11:07:40.776543Z"
    }
   },
   "outputs": [
    {
     "name": "stdout",
     "output_type": "stream",
     "text": [
      "____________________ 关联规则 ____________________\n",
      "                         antecedents                      consequents  \\\n",
      "273              (Children, Fantasy)           (Adventure, Animation)   \n",
      "268           (Adventure, Animation)              (Children, Fantasy)   \n",
      "272            (Adventure, Children)             (Fantasy, Animation)   \n",
      "269             (Fantasy, Animation)            (Adventure, Children)   \n",
      "210   (Comedy, Adventure, Animation)                       (Children)   \n",
      "221                       (Children)   (Comedy, Adventure, Animation)   \n",
      "281                       (Children)             (Animation, Musical)   \n",
      "280             (Animation, Musical)                       (Children)   \n",
      "214              (Comedy, Animation)            (Adventure, Children)   \n",
      "217            (Adventure, Children)              (Comedy, Animation)   \n",
      "279              (Children, Musical)                      (Animation)   \n",
      "282                      (Animation)              (Children, Musical)   \n",
      "220                      (Animation)    (Comedy, Adventure, Children)   \n",
      "211    (Comedy, Adventure, Children)                      (Animation)   \n",
      "215               (Comedy, Children)           (Adventure, Animation)   \n",
      "216           (Adventure, Animation)               (Comedy, Children)   \n",
      "87                        (Children)           (Adventure, Animation)   \n",
      "82            (Adventure, Animation)                       (Children)   \n",
      "277                       (Children)  (Fantasy, Adventure, Animation)   \n",
      "264  (Fantasy, Adventure, Animation)                       (Children)   \n",
      "96                        (Children)              (Comedy, Animation)   \n",
      "95               (Comedy, Animation)                       (Children)   \n",
      "274                      (Animation)   (Adventure, Fantasy, Children)   \n",
      "267   (Adventure, Fantasy, Children)                      (Animation)   \n",
      "83             (Adventure, Children)                      (Animation)   \n",
      "86                       (Animation)            (Adventure, Children)   \n",
      "166                       (Children)             (Fantasy, Animation)   \n",
      "163             (Fantasy, Animation)                       (Children)   \n",
      "164              (Children, Fantasy)                      (Animation)   \n",
      "165                      (Animation)              (Children, Fantasy)   \n",
      "..                               ...                              ...   \n",
      "88                (Action, Thriller)                      (Adventure)   \n",
      "91                       (Adventure)               (Action, Thriller)   \n",
      "347                       (Thriller)                (Horror, Fantasy)   \n",
      "344                (Horror, Fantasy)                       (Thriller)   \n",
      "233              (Action, Adventure)                            (War)   \n",
      "236                            (War)              (Action, Adventure)   \n",
      "286                (Mystery, Comedy)                       (Thriller)   \n",
      "289                       (Thriller)                (Mystery, Comedy)   \n",
      "284               (Thriller, Comedy)                         (Horror)   \n",
      "285                         (Horror)               (Thriller, Comedy)   \n",
      "380               (Action, Thriller)               (Drama, Adventure)   \n",
      "381               (Drama, Adventure)               (Action, Thriller)   \n",
      "310       (Mystery, Drama, Thriller)                         (Horror)   \n",
      "317                         (Horror)       (Mystery, Drama, Thriller)   \n",
      "110                         (Sci-Fi)                        (Fantasy)   \n",
      "111                        (Fantasy)                         (Sci-Fi)   \n",
      "240           (Adventure, Animation)                         (Action)   \n",
      "241                         (Action)           (Adventure, Animation)   \n",
      "46                         (Romance)                        (Musical)   \n",
      "47                         (Musical)                        (Romance)   \n",
      "2                           (Action)                       (Thriller)   \n",
      "3                         (Thriller)                         (Action)   \n",
      "38                   (Action, Drama)                       (Thriller)   \n",
      "39                        (Thriller)                  (Action, Drama)   \n",
      "108                       (Thriller)                 (Sci-Fi, Action)   \n",
      "105                 (Sci-Fi, Action)                       (Thriller)   \n",
      "11                           (Crime)                         (Action)   \n",
      "10                          (Action)                          (Crime)   \n",
      "305               (Drama, Film-Noir)                       (Thriller)   \n",
      "306                       (Thriller)               (Drama, Film-Noir)   \n",
      "\n",
      "     antecedent support  consequent support   support  confidence       lift  \\\n",
      "273            0.011401            0.012904  0.002969    0.260450  20.183408   \n",
      "268            0.012904            0.011401  0.002969    0.230114  20.183408   \n",
      "272            0.016497            0.009678  0.002969    0.180000  18.598636   \n",
      "269            0.009678            0.016497  0.002969    0.306818  18.598636   \n",
      "210            0.005096            0.041755  0.003739    0.733813  17.574144   \n",
      "221            0.041755            0.005096  0.003739    0.089552  17.574144   \n",
      "281            0.041755            0.004143  0.002933    0.070237  16.955100   \n",
      "280            0.004143            0.041755  0.002933    0.707965  16.955100   \n",
      "214            0.013527            0.016497  0.003739    0.276423  16.756134   \n",
      "217            0.016497            0.013527  0.003739    0.226667  16.756134   \n",
      "279            0.005059            0.037649  0.002933    0.579710  15.397598   \n",
      "282            0.037649            0.005059  0.002933    0.077897  15.397598   \n",
      "220            0.037649            0.006525  0.003739    0.099318  15.220266   \n",
      "211            0.006525            0.037649  0.003739    0.573034  15.220266   \n",
      "215            0.019283            0.012904  0.003739    0.193916  15.027415   \n",
      "216            0.012904            0.019283  0.003739    0.289773  15.027415   \n",
      "87             0.041755            0.012904  0.007918    0.189640  14.696025   \n",
      "82             0.012904            0.041755  0.007918    0.613636  14.696025   \n",
      "277            0.041755            0.004949  0.002969    0.071115  14.369447   \n",
      "264            0.004949            0.041755  0.002969    0.600000  14.369447   \n",
      "96             0.041755            0.013527  0.007405    0.177349  13.110335   \n",
      "95             0.013527            0.041755  0.007405    0.547425  13.110335   \n",
      "274            0.037649            0.006049  0.002969    0.078870  13.038966   \n",
      "267            0.006049            0.037649  0.002969    0.490909  13.038966   \n",
      "83             0.016497            0.037649  0.007918    0.480000  12.749211   \n",
      "86             0.037649            0.016497  0.007918    0.210321  12.749211   \n",
      "166            0.041755            0.009678  0.005096    0.122037  12.609553   \n",
      "163            0.009678            0.041755  0.005096    0.526515  12.609553   \n",
      "164            0.011401            0.037649  0.005096    0.446945  11.871251   \n",
      "165            0.037649            0.011401  0.005096    0.135346  11.871251   \n",
      "..                  ...                 ...       ...         ...        ...   \n",
      "88             0.040655            0.085380  0.007845    0.192967   2.260088   \n",
      "91             0.085380            0.040655  0.007845    0.091885   2.260088   \n",
      "347            0.153164            0.006892  0.002346    0.015318   2.222625   \n",
      "344            0.006892            0.153164  0.002346    0.340426   2.222625   \n",
      "233            0.035633            0.043772  0.003446    0.096708   2.209377   \n",
      "236            0.043772            0.035633  0.003446    0.078727   2.209377   \n",
      "286            0.008578            0.153164  0.002896    0.337607   2.204222   \n",
      "289            0.153164            0.008578  0.002896    0.018909   2.204222   \n",
      "284            0.014297            0.095718  0.002933    0.205128   2.143044   \n",
      "285            0.095718            0.014297  0.002933    0.030640   2.143044   \n",
      "380            0.040655            0.025295  0.002200    0.054103   2.138864   \n",
      "381            0.025295            0.040655  0.002200    0.086957   2.138864   \n",
      "310            0.012684            0.095718  0.002566    0.202312   2.113623   \n",
      "317            0.095718            0.012684  0.002566    0.026810   2.113623   \n",
      "110            0.063898            0.051763  0.006929    0.108434   2.094798   \n",
      "111            0.051763            0.063898  0.006929    0.133853   2.094798   \n",
      "240            0.012904            0.129042  0.003446    0.267045   2.069451   \n",
      "241            0.129042            0.012904  0.003446    0.026705   2.069451   \n",
      "46             0.151294            0.037979  0.011878    0.078507   2.067109   \n",
      "47             0.037979            0.151294  0.011878    0.312741   2.067109   \n",
      "2              0.129042            0.153164  0.040655    0.315057   2.056994   \n",
      "3              0.153164            0.129042  0.040655    0.265438   2.056994   \n",
      "38             0.044101            0.153164  0.013894    0.315046   2.056921   \n",
      "39             0.153164            0.044101  0.013894    0.090713   2.056921   \n",
      "108            0.153164            0.023499  0.007369    0.048109   2.047303   \n",
      "105            0.023499            0.153164  0.007369    0.313573   2.047303   \n",
      "11             0.107743            0.129042  0.028118    0.260973   2.022393   \n",
      "10             0.129042            0.107743  0.028118    0.217898   2.022393   \n",
      "305            0.008615            0.153164  0.002639    0.306383   2.000363   \n",
      "306            0.153164            0.008615  0.002639    0.017233   2.000363   \n",
      "\n",
      "     leverage  conviction  \n",
      "273  0.002822    1.334725  \n",
      "268  0.002822    1.284084  \n",
      "272  0.002810    1.207710  \n",
      "269  0.002810    1.418824  \n",
      "210  0.003527    3.599892  \n",
      "221  0.003527    1.092764  \n",
      "281  0.002760    1.071087  \n",
      "280  0.002760    3.281262  \n",
      "214  0.003516    1.359224  \n",
      "217  0.003516    1.275611  \n",
      "279  0.002742    2.289731  \n",
      "282  0.002742    1.078991  \n",
      "220  0.003494    1.103025  \n",
      "211  0.003494    2.253926  \n",
      "215  0.003490    1.224558  \n",
      "216  0.003490    1.380850  \n",
      "87   0.007380    1.218096  \n",
      "82   0.007380    2.480163  \n",
      "277  0.002763    1.071232  \n",
      "264  0.002763    2.395612  \n",
      "96   0.006840    1.199138  \n",
      "95   0.006840    2.117319  \n",
      "274  0.002742    1.079057  \n",
      "267  0.002742    1.890332  \n",
      "83   0.007297    1.850674  \n",
      "86   0.007297    1.245447  \n",
      "166  0.004692    1.127977  \n",
      "163  0.004692    2.023813  \n",
      "164  0.004666    1.740064  \n",
      "165  0.004666    1.143346  \n",
      "..        ...         ...  \n",
      "88   0.004374    1.133311  \n",
      "91   0.004374    1.056413  \n",
      "347  0.001291    1.008557  \n",
      "344  0.001291    1.283913  \n",
      "233  0.001886    1.058604  \n",
      "236  0.001886    1.046776  \n",
      "286  0.001582    1.278450  \n",
      "289  0.001582    1.010529  \n",
      "284  0.001564    1.137645  \n",
      "285  0.001564    1.016859  \n",
      "380  0.001171    1.030455  \n",
      "381  0.001171    1.050711  \n",
      "310  0.001352    1.133629  \n",
      "317  0.001352    1.014515  \n",
      "110  0.003621    1.063563  \n",
      "111  0.003621    1.080766  \n",
      "240  0.001781    1.188284  \n",
      "241  0.001781    1.014179  \n",
      "46   0.006132    1.043981  \n",
      "47   0.006132    1.234915  \n",
      "2    0.020891    1.236360  \n",
      "3    0.020891    1.185684  \n",
      "38   0.007139    1.236340  \n",
      "39   0.007139    1.051262  \n",
      "108  0.003769    1.025854  \n",
      "105  0.003769    1.233686  \n",
      "11   0.014215    1.178520  \n",
      "10   0.014215    1.140845  \n",
      "305  0.001320    1.220899  \n",
      "306  0.001320    1.008769  \n",
      "\n",
      "[410 rows x 9 columns]\n"
     ]
    }
   ],
   "source": [
    "# 按照提升度大小进行排序\n",
    "rules = rules.sort_values(by='lift',ascending=False)\n",
    "print('_'*20,'关联规则','_'*20)\n",
    "print(rules)"
   ]
  },
  {
   "cell_type": "code",
   "execution_count": null,
   "metadata": {},
   "outputs": [],
   "source": []
  }
 ],
 "metadata": {
  "kernelspec": {
   "display_name": "Python 3",
   "language": "python",
   "name": "python3"
  },
  "language_info": {
   "codemirror_mode": {
    "name": "ipython",
    "version": 3
   },
   "file_extension": ".py",
   "mimetype": "text/x-python",
   "name": "python",
   "nbconvert_exporter": "python",
   "pygments_lexer": "ipython3",
   "version": "3.7.3"
  },
  "toc": {
   "base_numbering": 1,
   "nav_menu": {},
   "number_sections": true,
   "sideBar": true,
   "skip_h1_title": false,
   "title_cell": "Table of Contents",
   "title_sidebar": "Contents",
   "toc_cell": false,
   "toc_position": {},
   "toc_section_display": true,
   "toc_window_display": false
  },
  "varInspector": {
   "cols": {
    "lenName": 16,
    "lenType": 16,
    "lenVar": 40
   },
   "kernels_config": {
    "python": {
     "delete_cmd_postfix": "",
     "delete_cmd_prefix": "del ",
     "library": "var_list.py",
     "varRefreshCmd": "print(var_dic_list())"
    },
    "r": {
     "delete_cmd_postfix": ") ",
     "delete_cmd_prefix": "rm(",
     "library": "var_list.r",
     "varRefreshCmd": "cat(var_dic_list()) "
    }
   },
   "types_to_exclude": [
    "module",
    "function",
    "builtin_function_or_method",
    "instance",
    "_Feature"
   ],
   "window_display": false
  }
 },
 "nbformat": 4,
 "nbformat_minor": 2
}
