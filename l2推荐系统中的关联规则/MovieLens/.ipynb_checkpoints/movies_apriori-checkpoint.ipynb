{
 "cells": [
  {
   "cell_type": "code",
   "execution_count": 1,
   "metadata": {
    "ExecuteTime": {
     "end_time": "2020-11-10T07:59:34.489218Z",
     "start_time": "2020-11-10T07:59:34.017393Z"
    }
   },
   "outputs": [],
   "source": [
    "#分析movieLens 电影分类中的频繁项集和关联规则\n",
    "import pandas as pd\n",
    "from mlxtend.frequent_patterns import apriori\n",
    "from mlxtend.frequent_patterns import association_rules"
   ]
  },
  {
   "cell_type": "code",
   "execution_count": 2,
   "metadata": {
    "ExecuteTime": {
     "end_time": "2020-11-10T07:59:34.683960Z",
     "start_time": "2020-11-10T07:59:34.620211Z"
    }
   },
   "outputs": [
    {
     "name": "stdout",
     "output_type": "stream",
     "text": [
      "   movieId                               title  \\\n",
      "0        1                    Toy Story (1995)   \n",
      "1        2                      Jumanji (1995)   \n",
      "2        3             Grumpier Old Men (1995)   \n",
      "3        4            Waiting to Exhale (1995)   \n",
      "4        5  Father of the Bride Part II (1995)   \n",
      "\n",
      "                                        genres  \n",
      "0  Adventure|Animation|Children|Comedy|Fantasy  \n",
      "1                   Adventure|Children|Fantasy  \n",
      "2                               Comedy|Romance  \n",
      "3                         Comedy|Drama|Romance  \n",
      "4                                       Comedy  \n"
     ]
    }
   ],
   "source": [
    "# 数据加载\n",
    "movies = pd.read_csv('./movies.csv')\n",
    "print(movies.head())"
   ]
  },
  {
   "cell_type": "code",
   "execution_count": 3,
   "metadata": {
    "ExecuteTime": {
     "end_time": "2020-11-10T07:59:45.235006Z",
     "start_time": "2020-11-10T07:59:44.618619Z"
    }
   },
   "outputs": [],
   "source": [
    "#将genres进行one-hot编码（离散特征有多少取值，就用多少维来表示这个特征）\n",
    "# get_dummies 是利用pandas实现one hot encode的方式\n",
    "movies_hot_encoded = movies.drop('genres',1).join(movies.genres.str.get_dummies(sep='|'))\n",
    "#print(movies_hot_encoded)"
   ]
  },
  {
   "cell_type": "code",
   "execution_count": 5,
   "metadata": {
    "ExecuteTime": {
     "end_time": "2020-11-10T08:00:47.152873Z",
     "start_time": "2020-11-10T08:00:47.150394Z"
    }
   },
   "outputs": [],
   "source": [
    "pd.options.display.max_columns = 100"
   ]
  },
  {
   "cell_type": "code",
   "execution_count": 6,
   "metadata": {
    "ExecuteTime": {
     "end_time": "2020-11-10T08:03:26.422322Z",
     "start_time": "2020-11-10T08:03:26.337695Z"
    }
   },
   "outputs": [
    {
     "name": "stdout",
     "output_type": "stream",
     "text": [
      "                                            (no genres listed)  Action  \\\n",
      "movieId title                                                            \n",
      "1       Toy Story (1995)                                     0       0   \n",
      "2       Jumanji (1995)                                       0       0   \n",
      "3       Grumpier Old Men (1995)                              0       0   \n",
      "4       Waiting to Exhale (1995)                             0       0   \n",
      "5       Father of the Bride Part II (1995)                   0       0   \n",
      "\n",
      "                                            Adventure  Animation  Children  \\\n",
      "movieId title                                                                \n",
      "1       Toy Story (1995)                            1          1         1   \n",
      "2       Jumanji (1995)                              1          0         1   \n",
      "3       Grumpier Old Men (1995)                     0          0         0   \n",
      "4       Waiting to Exhale (1995)                    0          0         0   \n",
      "5       Father of the Bride Part II (1995)          0          0         0   \n",
      "\n",
      "                                            Comedy  Crime  Documentary  Drama  \\\n",
      "movieId title                                                                   \n",
      "1       Toy Story (1995)                         1      0            0      0   \n",
      "2       Jumanji (1995)                           0      0            0      0   \n",
      "3       Grumpier Old Men (1995)                  1      0            0      0   \n",
      "4       Waiting to Exhale (1995)                 1      0            0      1   \n",
      "5       Father of the Bride Part II (1995)       1      0            0      0   \n",
      "\n",
      "                                            Fantasy  Film-Noir  Horror  IMAX  \\\n",
      "movieId title                                                                  \n",
      "1       Toy Story (1995)                          1          0       0     0   \n",
      "2       Jumanji (1995)                            1          0       0     0   \n",
      "3       Grumpier Old Men (1995)                   0          0       0     0   \n",
      "4       Waiting to Exhale (1995)                  0          0       0     0   \n",
      "5       Father of the Bride Part II (1995)        0          0       0     0   \n",
      "\n",
      "                                            Musical  Mystery  Romance  Sci-Fi  \\\n",
      "movieId title                                                                   \n",
      "1       Toy Story (1995)                          0        0        0       0   \n",
      "2       Jumanji (1995)                            0        0        0       0   \n",
      "3       Grumpier Old Men (1995)                   0        0        1       0   \n",
      "4       Waiting to Exhale (1995)                  0        0        1       0   \n",
      "5       Father of the Bride Part II (1995)        0        0        0       0   \n",
      "\n",
      "                                            Thriller  War  Western  \n",
      "movieId title                                                       \n",
      "1       Toy Story (1995)                           0    0        0  \n",
      "2       Jumanji (1995)                             0    0        0  \n",
      "3       Grumpier Old Men (1995)                    0    0        0  \n",
      "4       Waiting to Exhale (1995)                   0    0        0  \n",
      "5       Father of the Bride Part II (1995)         0    0        0  \n"
     ]
    }
   ],
   "source": [
    "# 将movieId，title 设置为index\n",
    "movies_hot_encoded.set_index(['movieId','title'],inplace=True)\n",
    "print(movies_hot_encoded.head())"
   ]
  },
  {
   "cell_type": "code",
   "execution_count": 11,
   "metadata": {
    "ExecuteTime": {
     "end_time": "2020-11-10T08:48:31.757899Z",
     "start_time": "2020-11-10T08:48:30.795706Z"
    }
   },
   "outputs": [
    {
     "name": "stdout",
     "output_type": "stream",
     "text": [
      "      support                                   itemsets\n",
      "0    0.009018                       ((no genres listed))\n",
      "1    0.129042                                   (Action)\n",
      "2    0.085380                                (Adventure)\n",
      "3    0.037649                                (Animation)\n",
      "4    0.041755                                 (Children)\n",
      "5    0.306987                                   (Comedy)\n",
      "6    0.107743                                    (Crime)\n",
      "7    0.090586                              (Documentary)\n",
      "8    0.489185                                    (Drama)\n",
      "9    0.051763                                  (Fantasy)\n",
      "10   0.012098                                (Film-Noir)\n",
      "11   0.095718                                   (Horror)\n",
      "12   0.007185                                     (IMAX)\n",
      "13   0.037979                                  (Musical)\n",
      "14   0.055503                                  (Mystery)\n",
      "15   0.151294                                  (Romance)\n",
      "16   0.063898                                   (Sci-Fi)\n",
      "17   0.153164                                 (Thriller)\n",
      "18   0.043772                                      (War)\n",
      "19   0.024782                                  (Western)\n",
      "20   0.035633                        (Action, Adventure)\n",
      "21   0.007259                        (Action, Animation)\n",
      "22   0.003739                         (Action, Children)\n",
      "23   0.026358                           (Action, Comedy)\n",
      "24   0.028118                            (Action, Crime)\n",
      "25   0.044101                            (Action, Drama)\n",
      "26   0.011914                          (Action, Fantasy)\n",
      "27   0.009898                           (Action, Horror)\n",
      "28   0.003703                             (Action, IMAX)\n",
      "29   0.005132                          (Action, Mystery)\n",
      "..        ...                                        ...\n",
      "190  0.002090                   (Horror, Crime, Mystery)\n",
      "191  0.003703                  (Horror, Crime, Thriller)\n",
      "192  0.009751                 (Mystery, Crime, Thriller)\n",
      "193  0.002713                 (Crime, Thriller, Romance)\n",
      "194  0.002346                  (Mystery, Drama, Fantasy)\n",
      "195  0.004216                  (Drama, Romance, Fantasy)\n",
      "196  0.002639               (Drama, Thriller, Film-Noir)\n",
      "197  0.003886                   (Horror, Drama, Mystery)\n",
      "198  0.008652                  (Horror, Drama, Thriller)\n",
      "199  0.004912                  (Drama, Romance, Musical)\n",
      "200  0.003629                  (Mystery, Drama, Romance)\n",
      "201  0.012684                 (Mystery, Drama, Thriller)\n",
      "202  0.005682                 (Drama, Thriller, Romance)\n",
      "203  0.006012                      (War, Drama, Romance)\n",
      "204  0.003886                  (Sci-Fi, Drama, Thriller)\n",
      "205  0.002420                     (War, Drama, Thriller)\n",
      "206  0.002346                (Horror, Thriller, Fantasy)\n",
      "207  0.009202                (Horror, Thriller, Mystery)\n",
      "208  0.005756                 (Sci-Fi, Thriller, Horror)\n",
      "209  0.002126               (Mystery, Thriller, Romance)\n",
      "210  0.002493                (Sci-Fi, Thriller, Mystery)\n",
      "211  0.002200       (Action, Drama, Adventure, Thriller)\n",
      "212  0.002126            (Action, War, Drama, Adventure)\n",
      "213  0.002346          (Action, Crime, Thriller, Comedy)\n",
      "214  0.005902           (Action, Crime, Drama, Thriller)\n",
      "215  0.003739   (Comedy, Adventure, Animation, Children)\n",
      "216  0.002969  (Animation, Adventure, Fantasy, Children)\n",
      "217  0.002310     (Comedy, Adventure, Fantasy, Children)\n",
      "218  0.004546          (Mystery, Crime, Drama, Thriller)\n",
      "219  0.002566         (Horror, Drama, Thriller, Mystery)\n",
      "\n",
      "[220 rows x 2 columns]\n"
     ]
    }
   ],
   "source": [
    "# 挖掘频繁项集，最小支持度为0.02\n",
    "itemsets = apriori(movies_hot_encoded,use_colnames=True,min_support=0.002)\n",
    "print(itemsets)"
   ]
  },
  {
   "cell_type": "code",
   "execution_count": 12,
   "metadata": {
    "ExecuteTime": {
     "end_time": "2020-11-10T08:49:04.343799Z",
     "start_time": "2020-11-10T08:49:04.316193Z"
    }
   },
   "outputs": [
    {
     "name": "stdout",
     "output_type": "stream",
     "text": [
      "-------------------- 频繁项集 --------------------\n",
      "     support itemsets\n",
      "0        0.0       ()\n",
      "1        0.0       ()\n",
      "2        0.0       ()\n",
      "3        0.0       ()\n",
      "4        0.0       ()\n",
      "5        0.0       ()\n",
      "6        0.0       ()\n",
      "7        0.0       ()\n",
      "8        0.0       ()\n",
      "9        0.0       ()\n",
      "10       0.0       ()\n",
      "11       0.0       ()\n",
      "12       0.0       ()\n",
      "13       0.0       ()\n",
      "14       0.0       ()\n",
      "15       0.0       ()\n",
      "16       0.0       ()\n",
      "17       0.0       ()\n",
      "18       0.0       ()\n",
      "19       0.0       ()\n",
      "20       0.0       ()\n",
      "21       0.0       ()\n",
      "22       0.0       ()\n",
      "23       0.0       ()\n",
      "24       0.0       ()\n",
      "25       0.0       ()\n",
      "26       0.0       ()\n",
      "27       0.0       ()\n",
      "28       0.0       ()\n",
      "29       0.0       ()\n",
      "..       ...      ...\n",
      "190      0.0       ()\n",
      "191      0.0       ()\n",
      "192      0.0       ()\n",
      "193      0.0       ()\n",
      "194      0.0       ()\n",
      "195      0.0       ()\n",
      "196      0.0       ()\n",
      "197      0.0       ()\n",
      "198      0.0       ()\n",
      "199      0.0       ()\n",
      "200      0.0       ()\n",
      "201      0.0       ()\n",
      "202      0.0       ()\n",
      "203      0.0       ()\n",
      "204      0.0       ()\n",
      "205      0.0       ()\n",
      "206      0.0       ()\n",
      "207      0.0       ()\n",
      "208      0.0       ()\n",
      "209      0.0       ()\n",
      "210      0.0       ()\n",
      "211      0.0       ()\n",
      "212      0.0       ()\n",
      "213      0.0       ()\n",
      "214      0.0       ()\n",
      "215      0.0       ()\n",
      "216      0.0       ()\n",
      "217      0.0       ()\n",
      "218      0.0       ()\n",
      "219      0.0       ()\n",
      "\n",
      "[220 rows x 2 columns]\n"
     ]
    }
   ],
   "source": [
    "# 按照支持度从大到小进行\n",
    "itemsets = itemsets.sort_values(by='support',ascending=True)\n",
    "print('-'*20,'频繁项集','-'*20)\n",
    "print(itemsets)"
   ]
  },
  {
   "cell_type": "code",
   "execution_count": null,
   "metadata": {},
   "outputs": [],
   "source": []
  }
 ],
 "metadata": {
  "kernelspec": {
   "display_name": "Python 3",
   "language": "python",
   "name": "python3"
  },
  "language_info": {
   "codemirror_mode": {
    "name": "ipython",
    "version": 3
   },
   "file_extension": ".py",
   "mimetype": "text/x-python",
   "name": "python",
   "nbconvert_exporter": "python",
   "pygments_lexer": "ipython3",
   "version": "3.7.3"
  },
  "toc": {
   "base_numbering": 1,
   "nav_menu": {},
   "number_sections": true,
   "sideBar": true,
   "skip_h1_title": false,
   "title_cell": "Table of Contents",
   "title_sidebar": "Contents",
   "toc_cell": false,
   "toc_position": {},
   "toc_section_display": true,
   "toc_window_display": false
  },
  "varInspector": {
   "cols": {
    "lenName": 16,
    "lenType": 16,
    "lenVar": 40
   },
   "kernels_config": {
    "python": {
     "delete_cmd_postfix": "",
     "delete_cmd_prefix": "del ",
     "library": "var_list.py",
     "varRefreshCmd": "print(var_dic_list())"
    },
    "r": {
     "delete_cmd_postfix": ") ",
     "delete_cmd_prefix": "rm(",
     "library": "var_list.r",
     "varRefreshCmd": "cat(var_dic_list()) "
    }
   },
   "types_to_exclude": [
    "module",
    "function",
    "builtin_function_or_method",
    "instance",
    "_Feature"
   ],
   "window_display": false
  }
 },
 "nbformat": 4,
 "nbformat_minor": 2
}
