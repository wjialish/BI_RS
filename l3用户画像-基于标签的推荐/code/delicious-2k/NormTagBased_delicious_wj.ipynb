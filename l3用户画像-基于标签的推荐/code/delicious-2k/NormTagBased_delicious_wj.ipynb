{
 "cells": [
  {
   "cell_type": "code",
   "execution_count": 2,
   "metadata": {
    "ExecuteTime": {
     "end_time": "2020-11-19T09:20:30.341762Z",
     "start_time": "2020-11-19T09:20:30.338315Z"
    }
   },
   "outputs": [],
   "source": [
    "import pandas as pd"
   ]
  },
  {
   "cell_type": "code",
   "execution_count": 21,
   "metadata": {
    "ExecuteTime": {
     "end_time": "2020-11-19T10:22:45.588754Z",
     "start_time": "2020-11-19T10:22:45.584028Z"
    }
   },
   "outputs": [],
   "source": [
    "file_path = './user_taggedbookmarks-timestamps.dat'\n",
    "# 字典类型，保存了用户打标签的记录\n",
    "# user 对item 的tag，即{userid:{item1:[tag1,tag2],item2:[tag1,tag2]}}\n",
    "records={}\n",
    "\n",
    "# 训练集 测试集\n",
    "# dict()函数用于创建一个字典\n",
    "#dict.items() 以列表返回可遍历的(键, 值) 元组数组\n",
    "#dict.keys() 以列表返回一个字典所有的键\n",
    "train_data = dict()\n",
    "test_data = dict()\n",
    "\n",
    "# 用户打过的标签\n",
    "user_tags = dict()\n",
    "# 打上某标签的商品\n",
    "tag_items = dict()\n",
    "# 用户打过标签的商品\n",
    "user_items = dict()"
   ]
  },
  {
   "cell_type": "code",
   "execution_count": 22,
   "metadata": {
    "ExecuteTime": {
     "end_time": "2020-11-19T10:22:46.334049Z",
     "start_time": "2020-11-19T10:22:46.328788Z"
    }
   },
   "outputs": [],
   "source": [
    "# 数据加载\n",
    "# 原始数据结构 userID\tbookmarkID\ttagID\ttimestamp\n",
    "def load_data():\n",
    "    print(\"开始加载数据.....\")\n",
    "    df = pd.read_csv(file_path,sep='\\t')\n",
    "    for i in range(len(df)):\n",
    "        uid = df['userID'][i]\n",
    "        iid = df['bookmarkID'][i]\n",
    "        tag = df['tagID'][i]\n",
    "        # 键不存在时，设置默认值为{}\n",
    "        records.setdefault(uid,{})\n",
    "        records[uid].setdefault(iid,[])\n",
    "        records[uid][iid].append(tag)\n",
    "    print(f\"数据集大小为{len(df)}\")\n",
    "    print(f\"设置tag的人数{len(records)}\")\n",
    "    print(\"数据加载完成\\n\")"
   ]
  },
  {
   "cell_type": "code",
   "execution_count": 23,
   "metadata": {
    "ExecuteTime": {
     "end_time": "2020-11-19T10:23:05.136436Z",
     "start_time": "2020-11-19T10:22:47.827317Z"
    }
   },
   "outputs": [
    {
     "name": "stdout",
     "output_type": "stream",
     "text": [
      "开始加载数据.....\n",
      "数据集大小为437593\n",
      "设置tag的人数1867\n",
      "数据加载完成\n",
      "\n"
     ]
    }
   ],
   "source": [
    "load_data()"
   ]
  },
  {
   "cell_type": "code",
   "execution_count": 24,
   "metadata": {
    "ExecuteTime": {
     "end_time": "2020-11-19T10:23:05.901421Z",
     "start_time": "2020-11-19T10:23:05.897852Z"
    }
   },
   "outputs": [],
   "source": [
    "import random"
   ]
  },
  {
   "cell_type": "code",
   "execution_count": 25,
   "metadata": {
    "ExecuteTime": {
     "end_time": "2020-11-19T10:23:06.672012Z",
     "start_time": "2020-11-19T10:23:06.664918Z"
    }
   },
   "outputs": [],
   "source": [
    "# 将数据集拆分为训练集和测试集\n",
    "def train_test_split(ratio,seed=100):\n",
    "    random.seed(seed)\n",
    "    for u in records.keys():\n",
    "        for i in records[u].keys():\n",
    "            # ratio 比例设置为测试集\n",
    "            if random.random() < ratio:\n",
    "                test_data.setdefault(u,{})\n",
    "                test_data[u].setdefault(i,[])\n",
    "                for t in records[u][i]:\n",
    "                    test_data[u][i].append(t)\n",
    "            else:\n",
    "                train_data.setdefault(u,{})\n",
    "                train_data[u].setdefault(i,[])\n",
    "                for t in records[u][i]:\n",
    "                    train_data[u][i].append(t)\n",
    "    print(f\"训练机集样本数为{len(train_data)},测试机集样本数为{len(test_data)}\")\n",
    "        "
   ]
  },
  {
   "cell_type": "code",
   "execution_count": 26,
   "metadata": {
    "ExecuteTime": {
     "end_time": "2020-11-19T10:23:07.965298Z",
     "start_time": "2020-11-19T10:23:07.340628Z"
    }
   },
   "outputs": [
    {
     "name": "stdout",
     "output_type": "stream",
     "text": [
      "训练机集样本数为1860,测试机集样本数为1793\n"
     ]
    }
   ],
   "source": [
    "train_test_split(0.2)"
   ]
  },
  {
   "cell_type": "code",
   "execution_count": 27,
   "metadata": {
    "ExecuteTime": {
     "end_time": "2020-11-19T10:23:09.421492Z",
     "start_time": "2020-11-19T10:23:09.415121Z"
    }
   },
   "outputs": [],
   "source": [
    "# 设置矩阵mat[index,item]=1\n",
    "def addValueToMat(mat,index,item,value=1):\n",
    "    if index not in mat:\n",
    "        mat.setdefault(index,{})\n",
    "        mat[index].setdefault(item,value)\n",
    "    else:\n",
    "        if item not in mat[index]:\n",
    "            mat[index][item] = value\n",
    "        else:\n",
    "            mat[index][item] += value"
   ]
  },
  {
   "cell_type": "code",
   "execution_count": 28,
   "metadata": {
    "ExecuteTime": {
     "end_time": "2020-11-19T10:24:30.817294Z",
     "start_time": "2020-11-19T10:24:30.810556Z"
    },
    "code_folding": []
   },
   "outputs": [],
   "source": [
    "# 使用训练集初始化user_tag tag_items user_items\n",
    "def initStat():\n",
    "    records = train_data\n",
    "    for u,items in records.items():\n",
    "        for i,tags in records[u].items():\n",
    "            for tag in tags:\n",
    "                # 用户和tag的关系\n",
    "                addValueToMat(user_tags,u,tag,1)\n",
    "                # tag和item 的关系\n",
    "                addValueToMat(tag_items,tag,i,1)\n",
    "                # 用户打过标签的商品\n",
    "                addValueToMat(user_items,u,i,1)\n",
    "    print(\"user_tag,user_items,tag_items初始化完成！\")\n",
    "    print(f\"user_tag的大小{len(user_tags)},user_items的大小{len(user_items)},tag_items的大小{len(tag_items)}\")\n",
    "    \n",
    "                   "
   ]
  },
  {
   "cell_type": "code",
   "execution_count": 29,
   "metadata": {
    "ExecuteTime": {
     "end_time": "2020-11-19T10:24:34.137291Z",
     "start_time": "2020-11-19T10:24:33.318178Z"
    }
   },
   "outputs": [
    {
     "name": "stdout",
     "output_type": "stream",
     "text": [
      "user_tag,user_items,tag_items初始化完成！\n",
      "user_tag的大小1860,user_items的大小1860,tag_items的大小36884\n"
     ]
    }
   ],
   "source": [
    "initStat()"
   ]
  },
  {
   "cell_type": "code",
   "execution_count": 30,
   "metadata": {
    "ExecuteTime": {
     "end_time": "2020-11-19T10:40:22.299722Z",
     "start_time": "2020-11-19T10:40:22.295920Z"
    }
   },
   "outputs": [],
   "source": [
    "import operator"
   ]
  },
  {
   "cell_type": "code",
   "execution_count": 45,
   "metadata": {
    "ExecuteTime": {
     "end_time": "2020-11-19T10:48:23.708205Z",
     "start_time": "2020-11-19T10:48:23.702638Z"
    }
   },
   "outputs": [],
   "source": [
    "# 对用户user推荐top-N\n",
    "def recommands(user,N):\n",
    "    recommands_item = dict()\n",
    "    # 对item进行打分，分数为所有的（用户对某标签使用的次数wut，乘以 商品被打上相同标签的次数 wti）之和\n",
    "    # 用户打过标签的商品\n",
    "    tagged_items = user_items[user]\n",
    "    for tag,wut in user_tags[user].items():\n",
    "        for item,wit in tag_items[tag].items():\n",
    "            if item in tagged_items:\n",
    "                continue\n",
    "            if item not in recommands_item:\n",
    "                recommands_item[item] = (wut/len(user_tags[user])) * (wit/len(tag_items[tag]))\n",
    "            else:\n",
    "                recommands_item[item] += (wut/len(user_tags[user])) * (wit/len(tag_items[tag]))\n",
    "    return sorted(recommands_item.items(),key=operator.itemgetter(1),reverse=True)[0:N]"
   ]
  },
  {
   "cell_type": "code",
   "execution_count": 46,
   "metadata": {
    "ExecuteTime": {
     "end_time": "2020-11-19T10:48:26.225948Z",
     "start_time": "2020-11-19T10:48:26.219057Z"
    }
   },
   "outputs": [],
   "source": [
    "# 使用测试集，计算精确率和召回率\n",
    "def precision_recall(N):\n",
    "    hit = 0\n",
    "    h_precision = 0\n",
    "    h_recall = 0\n",
    "    for user,items in test_data.items():\n",
    "        if user not in train_data:\n",
    "            continue\n",
    "        #获取top-N推荐列表\n",
    "        rank = recommands(user,N)\n",
    "        for item,rui in rank:\n",
    "            if item in items:\n",
    "                hit += 1\n",
    "        h_recall = h_recall + len(items)\n",
    "        h_precision = h_precision + N\n",
    "    print(f\"一共命中{hit}个，一共推荐{h_precision}个，用户设置tag总数为：{h_recall}\")\n",
    "    # 返回精确率和召回率\n",
    "    return (hit/(h_precision*1.0)),(hit/(h_recall*1.0))"
   ]
  },
  {
   "cell_type": "code",
   "execution_count": 47,
   "metadata": {
    "ExecuteTime": {
     "end_time": "2020-11-19T10:48:28.154532Z",
     "start_time": "2020-11-19T10:48:28.150274Z"
    }
   },
   "outputs": [],
   "source": [
    "# 使用测试集，对推荐结果进行评估\n",
    "def test_recommands():\n",
    "    print(\"推荐结果进行评估..\")\n",
    "    print('%3s %10s %10s' % ('N','精确率','召回率'))\n",
    "    for n in [5,10,20,40,60,80,100]:\n",
    "        precision,recall = precision_recall(n)\n",
    "        print('%3d %10.3f%% %10.3f%%' % (n,precision *100,recall * 100))\n",
    "    "
   ]
  },
  {
   "cell_type": "code",
   "execution_count": 48,
   "metadata": {
    "ExecuteTime": {
     "end_time": "2020-11-19T10:54:44.665832Z",
     "start_time": "2020-11-19T10:48:30.563210Z"
    }
   },
   "outputs": [
    {
     "name": "stdout",
     "output_type": "stream",
     "text": [
      "推荐结果进行评估..\n",
      "  N        精确率        召回率\n",
      "一共命中72个，一共推荐8930个，用户设置tag总数为：20861\n",
      "  5      0.806%      0.345%\n",
      "一共命中103个，一共推荐17860个，用户设置tag总数为：20861\n",
      " 10      0.577%      0.494%\n",
      "一共命中153个，一共推荐35720个，用户设置tag总数为：20861\n",
      " 20      0.428%      0.733%\n",
      "一共命中214个，一共推荐71440个，用户设置tag总数为：20861\n",
      " 40      0.300%      1.026%\n",
      "一共命中278个，一共推荐107160个，用户设置tag总数为：20861\n",
      " 60      0.259%      1.333%\n",
      "一共命中338个，一共推荐142880个，用户设置tag总数为：20861\n",
      " 80      0.237%      1.620%\n",
      "一共命中397个，一共推荐178600个，用户设置tag总数为：20861\n",
      "100      0.222%      1.903%\n"
     ]
    }
   ],
   "source": [
    "test_recommands()"
   ]
  },
  {
   "cell_type": "code",
   "execution_count": null,
   "metadata": {},
   "outputs": [],
   "source": []
  }
 ],
 "metadata": {
  "kernelspec": {
   "display_name": "Python 3",
   "language": "python",
   "name": "python3"
  },
  "language_info": {
   "codemirror_mode": {
    "name": "ipython",
    "version": 3
   },
   "file_extension": ".py",
   "mimetype": "text/x-python",
   "name": "python",
   "nbconvert_exporter": "python",
   "pygments_lexer": "ipython3",
   "version": "3.7.3"
  },
  "toc": {
   "base_numbering": 1,
   "nav_menu": {},
   "number_sections": true,
   "sideBar": true,
   "skip_h1_title": false,
   "title_cell": "Table of Contents",
   "title_sidebar": "Contents",
   "toc_cell": false,
   "toc_position": {},
   "toc_section_display": true,
   "toc_window_display": false
  },
  "varInspector": {
   "cols": {
    "lenName": 16,
    "lenType": 16,
    "lenVar": 40
   },
   "kernels_config": {
    "python": {
     "delete_cmd_postfix": "",
     "delete_cmd_prefix": "del ",
     "library": "var_list.py",
     "varRefreshCmd": "print(var_dic_list())"
    },
    "r": {
     "delete_cmd_postfix": ") ",
     "delete_cmd_prefix": "rm(",
     "library": "var_list.r",
     "varRefreshCmd": "cat(var_dic_list()) "
    }
   },
   "types_to_exclude": [
    "module",
    "function",
    "builtin_function_or_method",
    "instance",
    "_Feature"
   ],
   "window_display": false
  }
 },
 "nbformat": 4,
 "nbformat_minor": 2
}
