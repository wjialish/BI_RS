{
 "cells": [
  {
   "cell_type": "code",
   "execution_count": 1,
   "metadata": {
    "ExecuteTime": {
     "end_time": "2020-11-19T06:41:53.830744Z",
     "start_time": "2020-11-19T06:41:53.266899Z"
    }
   },
   "outputs": [],
   "source": [
    "import pandas as pd"
   ]
  },
  {
   "cell_type": "code",
   "execution_count": 2,
   "metadata": {
    "ExecuteTime": {
     "end_time": "2020-11-19T06:41:53.843289Z",
     "start_time": "2020-11-19T06:41:53.839020Z"
    }
   },
   "outputs": [],
   "source": [
    "file_path = './user_taggedbookmarks-timestamps.dat'\n",
    "\n",
    "#字典类型，保存了用户打标签的记录user对item的tag,即{userid:{item1:[tag1,tag2]},{item2}...}\n",
    "records = {}\n",
    "\n",
    "# 训练集，测试集\n",
    "# dict() 函数用于创建一个字典\n",
    "train_data = dict()\n",
    "test_data = dict()\n",
    "\n",
    "# 用户打过的标签\n",
    "user_tags = dict()\n",
    "# 用户打过标签的商品\n",
    "user_items = dict()\n",
    "# 打上某标签的商品\n",
    "tag_items = dict()\n",
    "# 某标签使用过的用户\n",
    "tag_user = dict()\n"
   ]
  },
  {
   "cell_type": "code",
   "execution_count": 3,
   "metadata": {
    "ExecuteTime": {
     "end_time": "2020-11-19T06:41:54.116419Z",
     "start_time": "2020-11-19T06:41:54.109489Z"
    }
   },
   "outputs": [],
   "source": [
    "# 数据加载\n",
    "# 原始数据结构 userID bookmarkID tagID timestamp\n",
    "def load_data():\n",
    "    print(\"开始加载数据....\")\n",
    "    df = pd.read_csv(file_path,sep='\\t')\n",
    "    for i in range(len(df)):\n",
    "        uid = df['userID'][i]\n",
    "        iid = df['bookmarkID'][i]\n",
    "        tag = df['tagID'][i]\n",
    "        # 键不存在时，设置默认值为{}\n",
    "        records.setdefault(uid,{})\n",
    "        records[uid].setdefault(iid,[])\n",
    "        records[uid][iid].append(tag)\n",
    "    print(f\"数据集大小为{len(df)}\")\n",
    "    print(f\"设置tag的人数{len(records)}\")\n",
    "    print(\"数据加载完成\\n\")"
   ]
  },
  {
   "cell_type": "code",
   "execution_count": 4,
   "metadata": {
    "ExecuteTime": {
     "end_time": "2020-11-19T06:42:11.687930Z",
     "start_time": "2020-11-19T06:41:54.929685Z"
    }
   },
   "outputs": [
    {
     "name": "stdout",
     "output_type": "stream",
     "text": [
      "开始加载数据....\n",
      "数据集大小为437593\n",
      "设置tag的人数1867\n",
      "数据加载完成\n",
      "\n"
     ]
    }
   ],
   "source": [
    "load_data()"
   ]
  },
  {
   "cell_type": "code",
   "execution_count": 5,
   "metadata": {
    "ExecuteTime": {
     "end_time": "2020-11-19T06:42:13.256737Z",
     "start_time": "2020-11-19T06:42:13.253467Z"
    }
   },
   "outputs": [],
   "source": [
    "import random"
   ]
  },
  {
   "cell_type": "code",
   "execution_count": 16,
   "metadata": {
    "ExecuteTime": {
     "end_time": "2020-11-19T06:45:00.037599Z",
     "start_time": "2020-11-19T06:45:00.030171Z"
    }
   },
   "outputs": [],
   "source": [
    "# 将数据拆分为训练集和测试集\n",
    "def train_test_split(ratio,seed=100):\n",
    "    random.seed(seed)\n",
    "    for u in records.keys():\n",
    "        for i in records[u].keys():\n",
    "            # ratio 比例设置为测试集\n",
    "            if random.random()<ratio:\n",
    "                #print(random.random())\n",
    "                test_data.setdefault(u,{})\n",
    "                test_data[u].setdefault(i,[])\n",
    "                for t in records[u][i]:\n",
    "                    test_data[u][i].append(t)\n",
    "            else:\n",
    "                train_data.setdefault(u,{})\n",
    "                train_data[u].setdefault(i,[])\n",
    "                for t in records[u][i]:\n",
    "                    train_data[u][i].append(t)\n",
    "    print(f\"训练机集样本数为{len(train_data)},测试机集样本数为{len(test_data)}\")\n",
    "                    \n",
    "    "
   ]
  },
  {
   "cell_type": "code",
   "execution_count": 18,
   "metadata": {
    "ExecuteTime": {
     "end_time": "2020-11-19T06:45:26.357167Z",
     "start_time": "2020-11-19T06:45:26.140058Z"
    }
   },
   "outputs": [
    {
     "name": "stdout",
     "output_type": "stream",
     "text": [
      "训练机集样本数为1867,测试机集样本数为1832\n"
     ]
    }
   ],
   "source": [
    "train_test_split(0.2)"
   ]
  },
  {
   "cell_type": "code",
   "execution_count": 22,
   "metadata": {
    "ExecuteTime": {
     "end_time": "2020-11-19T06:52:09.505283Z",
     "start_time": "2020-11-19T06:52:09.498662Z"
    }
   },
   "outputs": [],
   "source": [
    "# 设置矩阵mat[index,item]=1\n",
    "def addValueToMat(mat,index,item,value=1):\n",
    "    if index not in mat:\n",
    "        mat.setdefault(index,{})\n",
    "        mat[index].setdefault(item,value)\n",
    "    else:\n",
    "        if item not in mat[index]:\n",
    "            mat[index][item] = value\n",
    "        else:\n",
    "            mat[index][item] += value"
   ]
  },
  {
   "cell_type": "code",
   "execution_count": 29,
   "metadata": {
    "ExecuteTime": {
     "end_time": "2020-11-19T06:57:14.590452Z",
     "start_time": "2020-11-19T06:57:14.578915Z"
    }
   },
   "outputs": [],
   "source": [
    "# 使用训练集初始化 user_tag tag_items user_items\n",
    "def initStat():\n",
    "    records = train_data\n",
    "    for u,items in records.items():\n",
    "        for i,tags in items.items():\n",
    "            for tag in tags:\n",
    "                #print(tag)\n",
    "                # 用户和tag的关系\n",
    "                addValueToMat(user_tags,u,tag,1)\n",
    "                # tag 和item的关系\n",
    "                addValueToMat(tag_items,tag,i,1)\n",
    "                # 用户和item的关系\n",
    "                addValueToMat(user_items,u,i,1)\n",
    "                # 标签和用户的关系\n",
    "                addValueToMat(tag_user,tag,u,1)\n",
    "    print(\"user_tag,user_items,tag_items,tag_user初始化完成！\")\n",
    "    print(f\"user_tag的大小{len(user_tags)},user_items的大小{len(user_items)},tag_items的大小{len(tag_items)},tag_user的大小{len(tag_user)}\")\n",
    "            \n",
    "                "
   ]
  },
  {
   "cell_type": "code",
   "execution_count": 30,
   "metadata": {
    "ExecuteTime": {
     "end_time": "2020-11-19T06:57:20.010562Z",
     "start_time": "2020-11-19T06:57:16.535442Z"
    }
   },
   "outputs": [
    {
     "name": "stdout",
     "output_type": "stream",
     "text": [
      "user_tag,user_items,tag_items,tag_user初始化完成！\n",
      "user_tag的大小1867,user_items的大小1867,tag_items的大小40159,tag_user的大小40159\n"
     ]
    }
   ],
   "source": [
    "initStat()"
   ]
  },
  {
   "cell_type": "code",
   "execution_count": 31,
   "metadata": {
    "ExecuteTime": {
     "end_time": "2020-11-19T08:31:16.065387Z",
     "start_time": "2020-11-19T08:31:16.062625Z"
    }
   },
   "outputs": [],
   "source": [
    "import operator"
   ]
  },
  {
   "cell_type": "code",
   "execution_count": 38,
   "metadata": {
    "ExecuteTime": {
     "end_time": "2020-11-19T08:51:42.668010Z",
     "start_time": "2020-11-19T08:51:42.660928Z"
    }
   },
   "outputs": [],
   "source": [
    "#对用户user推荐top-N\n",
    "def recommands(user,N):\n",
    "    recommands_item = dict()\n",
    "    # 对item进行打分，分数为所有的（用户对某标签使用的次数wut，乘以 商品被打上相同标签的次数 wti）之和\n",
    "    tagged_items = user_items[user]\n",
    "    for tag,wut in user_tags[user].items():\n",
    "        for item,wti in tag_items[tag].items():\n",
    "            if item in tagged_items:\n",
    "                continue\n",
    "            if item not in recommands_item:\n",
    "                recommands_item[item] = wut * wti\n",
    "            else:\n",
    "                recommands_item[item] += wut * wti\n",
    "                \n",
    "    return sorted(recommands_item.items(),key=operator.itemgetter(1),reverse=True)[0:N]\n"
   ]
  },
  {
   "cell_type": "code",
   "execution_count": 39,
   "metadata": {
    "ExecuteTime": {
     "end_time": "2020-11-19T08:51:44.627796Z",
     "start_time": "2020-11-19T08:51:44.622452Z"
    }
   },
   "outputs": [],
   "source": [
    "#使用测试集，计算精确率和召回率\n",
    "def precision_recall(N):\n",
    "    hit = 0\n",
    "    h_recall = 0\n",
    "    h_precision = 0\n",
    "    for user,items in test_data.items():\n",
    "        if user not in train_data:\n",
    "            continue\n",
    "        # 获取top-N推荐列表\n",
    "        rank = recommands(user,N)\n",
    "        for item,rui in rank:\n",
    "            if item in items:\n",
    "                hit+=1\n",
    "        h_recall = h_recall + len(items)\n",
    "        h_precision = h_precision + N\n",
    "    print(f\"一共命中{hit}个，一共推荐{h_precision}个，用户设置tag总数为：{h_recall}\")\n",
    "    # 返回精确率和召回率\n",
    "    return (hit/(h_precision*1.0)),(hit/(h_recall*1.0))"
   ]
  },
  {
   "cell_type": "code",
   "execution_count": 40,
   "metadata": {
    "ExecuteTime": {
     "end_time": "2020-11-19T08:51:47.046955Z",
     "start_time": "2020-11-19T08:51:47.042380Z"
    }
   },
   "outputs": [],
   "source": [
    "# 使用测试集，对推荐结果进行评估\n",
    "def test_recommand():\n",
    "    print(\"推荐结果进行评估..\")\n",
    "    print('%3s %10s %10s' % ('N','精确率','召回率'))\n",
    "    for n in [5,10,20,40,60,80,100]:\n",
    "        precision,recall = precision_recall(n)\n",
    "        print('%3d %10.3f%% %10.3f%%' % (n,precision *100,recall * 100))\n",
    "        "
   ]
  },
  {
   "cell_type": "code",
   "execution_count": 41,
   "metadata": {
    "ExecuteTime": {
     "end_time": "2020-11-19T08:57:13.864770Z",
     "start_time": "2020-11-19T08:51:48.913225Z"
    }
   },
   "outputs": [
    {
     "name": "stdout",
     "output_type": "stream",
     "text": [
      "推荐结果进行评估..\n",
      "  N        精确率        召回率\n",
      "一共命中15个，一共推荐9160个，用户设置tag总数为：37626\n",
      "  5      0.164%      0.040%\n",
      "一共命中22个，一共推荐18320个，用户设置tag总数为：37626\n",
      " 10      0.120%      0.058%\n",
      "一共命中38个，一共推荐36640个，用户设置tag总数为：37626\n",
      " 20      0.104%      0.101%\n",
      "一共命中60个，一共推荐73280个，用户设置tag总数为：37626\n",
      " 40      0.082%      0.159%\n",
      "一共命中71个，一共推荐109920个，用户设置tag总数为：37626\n",
      " 60      0.065%      0.189%\n",
      "一共命中82个，一共推荐146560个，用户设置tag总数为：37626\n",
      " 80      0.056%      0.218%\n",
      "一共命中90个，一共推荐183200个，用户设置tag总数为：37626\n",
      "100      0.049%      0.239%\n"
     ]
    }
   ],
   "source": [
    "test_recommand()"
   ]
  },
  {
   "cell_type": "code",
   "execution_count": null,
   "metadata": {},
   "outputs": [],
   "source": []
  }
 ],
 "metadata": {
  "kernelspec": {
   "display_name": "Python 3",
   "language": "python",
   "name": "python3"
  },
  "language_info": {
   "codemirror_mode": {
    "name": "ipython",
    "version": 3
   },
   "file_extension": ".py",
   "mimetype": "text/x-python",
   "name": "python",
   "nbconvert_exporter": "python",
   "pygments_lexer": "ipython3",
   "version": "3.7.3"
  },
  "toc": {
   "base_numbering": 1,
   "nav_menu": {},
   "number_sections": true,
   "sideBar": true,
   "skip_h1_title": false,
   "title_cell": "Table of Contents",
   "title_sidebar": "Contents",
   "toc_cell": false,
   "toc_position": {},
   "toc_section_display": true,
   "toc_window_display": false
  },
  "varInspector": {
   "cols": {
    "lenName": 16,
    "lenType": 16,
    "lenVar": 40
   },
   "kernels_config": {
    "python": {
     "delete_cmd_postfix": "",
     "delete_cmd_prefix": "del ",
     "library": "var_list.py",
     "varRefreshCmd": "print(var_dic_list())"
    },
    "r": {
     "delete_cmd_postfix": ") ",
     "delete_cmd_prefix": "rm(",
     "library": "var_list.r",
     "varRefreshCmd": "cat(var_dic_list()) "
    }
   },
   "types_to_exclude": [
    "module",
    "function",
    "builtin_function_or_method",
    "instance",
    "_Feature"
   ],
   "window_display": false
  }
 },
 "nbformat": 4,
 "nbformat_minor": 2
}
