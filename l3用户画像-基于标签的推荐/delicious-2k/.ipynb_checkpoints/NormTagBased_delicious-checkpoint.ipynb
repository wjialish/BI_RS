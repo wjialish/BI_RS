{
 "cells": [
  {
   "cell_type": "markdown",
   "metadata": {},
   "source": [
    "数据格式 userID bookmarkID tagID timestamp"
   ]
  },
  {
   "cell_type": "code",
   "execution_count": 1,
   "metadata": {
    "ExecuteTime": {
     "end_time": "2020-11-16T09:06:51.573044Z",
     "start_time": "2020-11-16T09:06:51.570140Z"
    }
   },
   "outputs": [],
   "source": [
    "class NormTagBased():\n",
    "    \n",
    "    # 构造函数\n",
    "    def _init_(self,filename):\n",
    "        self.filename = filename\n",
    "        \n",
    "    \n",
    "    \n",
    "    # 数据加载\n",
    "    def loadData(self):\n",
    "        print('start loadiing data....')\n",
    "        filename = self.filename\n",
    "        #保存了用户对item的tag\n",
    "        self.records = {}\n",
    "        fi = open(filename)\n",
    "        lineNum = 0\n",
    "        for line in fi:\n",
    "            print(\"数据加载前格式.....\")\n",
    "            print(line)\n",
    "            lineNum += 1\n",
    "            if lineNum == 1:\n",
    "                continue;\n",
    "            uid,iid,tid,timestamp = line.split('\\t')\n",
    "            #\n",
    "        \n",
    "        \n",
    "        \n",
    "    "
   ]
  },
  {
   "cell_type": "code",
   "execution_count": null,
   "metadata": {},
   "outputs": [],
   "source": []
  }
 ],
 "metadata": {
  "kernelspec": {
   "display_name": "Python 3",
   "language": "python",
   "name": "python3"
  },
  "language_info": {
   "codemirror_mode": {
    "name": "ipython",
    "version": 3
   },
   "file_extension": ".py",
   "mimetype": "text/x-python",
   "name": "python",
   "nbconvert_exporter": "python",
   "pygments_lexer": "ipython3",
   "version": "3.7.3"
  },
  "toc": {
   "base_numbering": 1,
   "nav_menu": {},
   "number_sections": true,
   "sideBar": true,
   "skip_h1_title": false,
   "title_cell": "Table of Contents",
   "title_sidebar": "Contents",
   "toc_cell": false,
   "toc_position": {},
   "toc_section_display": true,
   "toc_window_display": false
  },
  "varInspector": {
   "cols": {
    "lenName": 16,
    "lenType": 16,
    "lenVar": 40
   },
   "kernels_config": {
    "python": {
     "delete_cmd_postfix": "",
     "delete_cmd_prefix": "del ",
     "library": "var_list.py",
     "varRefreshCmd": "print(var_dic_list())"
    },
    "r": {
     "delete_cmd_postfix": ") ",
     "delete_cmd_prefix": "rm(",
     "library": "var_list.r",
     "varRefreshCmd": "cat(var_dic_list()) "
    }
   },
   "types_to_exclude": [
    "module",
    "function",
    "builtin_function_or_method",
    "instance",
    "_Feature"
   ],
   "window_display": false
  }
 },
 "nbformat": 4,
 "nbformat_minor": 2
}
