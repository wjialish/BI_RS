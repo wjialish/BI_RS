{
 "cells": [
  {
   "cell_type": "code",
   "execution_count": 8,
   "metadata": {},
   "outputs": [],
   "source": [
    "#对three_kingdoms.txt文件进行中文分词\n",
    "import jieba\n",
    "import os"
   ]
  },
  {
   "cell_type": "code",
   "execution_count": 9,
   "metadata": {},
   "outputs": [],
   "source": [
    "def getFilePathList(file_dir):\n",
    "    filePath_list = []\n",
    "    for walk in os.walk(file_dir):\n",
    "        part_filePath_list = [os.path.join(walk[0],file) for file in walk[2]]\n",
    "        filePath_list.extend(part_filePath_list)\n",
    "    return filePath_list"
   ]
  },
  {
   "cell_type": "code",
   "execution_count": 10,
   "metadata": {},
   "outputs": [],
   "source": [
    "def get_files_list(file_dir,postfix='ALL'):\n",
    "    postfix = postfix.split('.')[-1]\n",
    "    file_list = []\n",
    "    filePath_list = getFilePathList(file_dir)\n",
    "    if postfix == 'ALL':\n",
    "        file_list = filePath_list\n",
    "    else:\n",
    "        for file in filePath_list:\n",
    "            basename = os.path.basename(file)\n",
    "            postfix_name = basename.split('.')[-1]\n",
    "            if postfix_name == postfix:\n",
    "                file_list.append(file)\n",
    "    file_list.sort()\n",
    "    return file_list"
   ]
  },
  {
   "cell_type": "code",
   "execution_count": 11,
   "metadata": {},
   "outputs": [],
   "source": [
    "# 单词分割，对整个文件内容进行字词分割\n",
    "def segment_lines(file_list,segment_out_dir,stopword=[]):\n",
    "    for i,file in enumerate(file_list):\n",
    "        segment_out_name = os.path.join(segment_out_dir,'segment_{}.txt'.format(i))\n",
    "        with open(file,'rb') as f:\n",
    "            document = f.read()\n",
    "            document_cut =jieba.cut(document)\n",
    "            sentence_segment = []\n",
    "            for word in document_cut:\n",
    "                if word not in stopword:\n",
    "                    sentence_segment.append(word)\n",
    "            result = ' '.join(sentence_segment)\n",
    "            result = result.encode('utf-8')\n",
    "            with open(segment_out_name,'wb') as f2:\n",
    "                f2.write(result)"
   ]
  },
  {
   "cell_type": "code",
   "execution_count": 12,
   "metadata": {},
   "outputs": [],
   "source": [
    "#对source中的txt文件进行分词，输出到segment目录中\n",
    "file_list = get_files_list('./source/',postfix='*.txt')\n",
    "segment_lines(file_list,'./segment/')"
   ]
  },
  {
   "cell_type": "code",
   "execution_count": null,
   "metadata": {},
   "outputs": [],
   "source": []
  },
  {
   "cell_type": "code",
   "execution_count": null,
   "metadata": {},
   "outputs": [],
   "source": []
  }
 ],
 "metadata": {
  "kernelspec": {
   "display_name": "Python 3",
   "language": "python",
   "name": "python3"
  },
  "language_info": {
   "codemirror_mode": {
    "name": "ipython",
    "version": 3
   },
   "file_extension": ".py",
   "mimetype": "text/x-python",
   "name": "python",
   "nbconvert_exporter": "python",
   "pygments_lexer": "ipython3",
   "version": "3.7.3"
  }
 },
 "nbformat": 4,
 "nbformat_minor": 2
}
