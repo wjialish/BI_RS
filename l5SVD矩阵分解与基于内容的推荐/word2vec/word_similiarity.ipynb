{
 "cells": [
  {
   "cell_type": "code",
   "execution_count": 1,
   "metadata": {
    "ExecuteTime": {
     "end_time": "2021-01-18T08:28:10.510795Z",
     "start_time": "2021-01-18T08:28:10.507525Z"
    }
   },
   "outputs": [],
   "source": [
    "# transform word to vec and calculate similiarity\n",
    "from gensim.models import word2vec\n",
    "import multiprocessing"
   ]
  },
  {
   "cell_type": "code",
   "execution_count": 3,
   "metadata": {
    "ExecuteTime": {
     "end_time": "2021-01-18T08:41:24.323053Z",
     "start_time": "2021-01-18T08:41:24.314522Z"
    }
   },
   "outputs": [],
   "source": [
    "# If there are some files,we can use PathLineSentences\n",
    "sentences = word2vec.PathLineSentences('./segment/segment_0.txt')"
   ]
  },
  {
   "cell_type": "code",
   "execution_count": 4,
   "metadata": {
    "ExecuteTime": {
     "end_time": "2021-01-18T09:02:12.453279Z",
     "start_time": "2021-01-18T09:01:51.737130Z"
    }
   },
   "outputs": [],
   "source": [
    "# training\n",
    "# window: maximun distance between the current and predicted word within a sentence\n",
    "# min_count: ignores all words with total frequencey lower than this\n",
    "# size : dimensionality of the word vectors\n",
    "model = word2vec.Word2Vec(sentences,window=3,min_count=1,size=100)"
   ]
  },
  {
   "cell_type": "code",
   "execution_count": 6,
   "metadata": {
    "ExecuteTime": {
     "end_time": "2021-01-18T09:05:41.056651Z",
     "start_time": "2021-01-18T09:05:41.036526Z"
    }
   },
   "outputs": [
    {
     "data": {
      "text/plain": [
       "0.90930885"
      ]
     },
     "execution_count": 6,
     "metadata": {},
     "output_type": "execute_result"
    }
   ],
   "source": [
    "model.wv.similarity('孙悟空','猪八戒')"
   ]
  },
  {
   "cell_type": "code",
   "execution_count": 8,
   "metadata": {
    "ExecuteTime": {
     "end_time": "2021-01-18T09:08:09.287586Z",
     "start_time": "2021-01-18T09:08:09.260935Z"
    }
   },
   "outputs": [
    {
     "data": {
      "text/plain": [
       "[('此官', 0.8823282718658447),\n",
       " ('射法', 0.8785949945449829),\n",
       " ('下体', 0.8763693571090698),\n",
       " ('奉劳', 0.8759041428565979),\n",
       " ('闻乎', 0.8696675300598145),\n",
       " ('随口答应', 0.8696560263633728),\n",
       " ('众猴道', 0.8690367937088013),\n",
       " ('塔萨道', 0.8674421906471252),\n",
       " ('玄大怒', 0.8648223876953125),\n",
       " ('师若肯', 0.8624510765075684)]"
      ]
     },
     "execution_count": 8,
     "metadata": {},
     "output_type": "execute_result"
    }
   ],
   "source": [
    "model.wv.most_similar(positive=['孙悟空','唐僧'],negative=['孙行者','猪悟能'])"
   ]
  },
  {
   "cell_type": "code",
   "execution_count": 16,
   "metadata": {
    "ExecuteTime": {
     "end_time": "2021-01-18T09:11:34.794403Z",
     "start_time": "2021-01-18T09:11:28.825378Z"
    }
   },
   "outputs": [],
   "source": [
    "model2 = word2vec.Word2Vec(sentences,min_count=5,window=5,workers=multiprocessing.cpu_count())"
   ]
  },
  {
   "cell_type": "code",
   "execution_count": 10,
   "metadata": {
    "ExecuteTime": {
     "end_time": "2021-01-18T09:09:57.349268Z",
     "start_time": "2021-01-18T09:09:57.202924Z"
    }
   },
   "outputs": [],
   "source": [
    "model2.save('./models/model2.model')"
   ]
  },
  {
   "cell_type": "code",
   "execution_count": 17,
   "metadata": {
    "ExecuteTime": {
     "end_time": "2021-01-18T09:11:34.806078Z",
     "start_time": "2021-01-18T09:11:34.801716Z"
    }
   },
   "outputs": [
    {
     "data": {
      "text/plain": [
       "0.8642583"
      ]
     },
     "execution_count": 17,
     "metadata": {},
     "output_type": "execute_result"
    }
   ],
   "source": [
    "model2.wv.similarity('孙悟空','猪八戒')"
   ]
  },
  {
   "cell_type": "code",
   "execution_count": 19,
   "metadata": {
    "ExecuteTime": {
     "end_time": "2021-01-18T09:12:08.217299Z",
     "start_time": "2021-01-18T09:12:08.204513Z"
    }
   },
   "outputs": [
    {
     "data": {
      "text/plain": [
       "[('老龙道', 0.835149884223938),\n",
       " ('众猴道', 0.7258976697921753),\n",
       " ('甚喜道', 0.6814249753952026),\n",
       " ('祖师', 0.6565961837768555),\n",
       " ('毛神', 0.6185646057128906),\n",
       " ('上仙', 0.598189115524292),\n",
       " ('宪曰', 0.5621713995933533),\n",
       " ('？', 0.5302146673202515),\n",
       " ('那猴道', 0.49443891644477844),\n",
       " ('五千两', 0.4751785397529602)]"
      ]
     },
     "execution_count": 19,
     "metadata": {},
     "output_type": "execute_result"
    }
   ],
   "source": [
    "model2.wv.most_similar(positive=['孙悟空','唐僧'],negative=['孙行者','猪悟能'])"
   ]
  },
  {
   "cell_type": "code",
   "execution_count": 20,
   "metadata": {
    "ExecuteTime": {
     "end_time": "2021-01-18T09:12:36.418847Z",
     "start_time": "2021-01-18T09:12:36.412891Z"
    }
   },
   "outputs": [
    {
     "data": {
      "text/plain": [
       "[('宝贝', 0.9591390490531921),\n",
       " ('猪八戒', 0.95338374376297),\n",
       " ('妖精', 0.9520021080970764),\n",
       " ('袈裟', 0.9470503330230713),\n",
       " ('妖怪', 0.9467910528182983),\n",
       " ('嚷', 0.9421894550323486),\n",
       " ('们', 0.9412878751754761),\n",
       " ('怎生', 0.9405732154846191),\n",
       " ('诳语', 0.9404782652854919),\n",
       " ('可好', 0.9378730654716492)]"
      ]
     },
     "execution_count": 20,
     "metadata": {},
     "output_type": "execute_result"
    }
   ],
   "source": [
    "model2.wv.similar_by_word('孙行者')"
   ]
  },
  {
   "cell_type": "code",
   "execution_count": null,
   "metadata": {},
   "outputs": [],
   "source": []
  }
 ],
 "metadata": {
  "kernelspec": {
   "display_name": "Python 3",
   "language": "python",
   "name": "python3"
  },
  "language_info": {
   "codemirror_mode": {
    "name": "ipython",
    "version": 3
   },
   "file_extension": ".py",
   "mimetype": "text/x-python",
   "name": "python",
   "nbconvert_exporter": "python",
   "pygments_lexer": "ipython3",
   "version": "3.8.5"
  },
  "toc": {
   "base_numbering": 1,
   "nav_menu": {},
   "number_sections": true,
   "sideBar": true,
   "skip_h1_title": false,
   "title_cell": "Table of Contents",
   "title_sidebar": "Contents",
   "toc_cell": false,
   "toc_position": {},
   "toc_section_display": true,
   "toc_window_display": false
  },
  "varInspector": {
   "cols": {
    "lenName": 16,
    "lenType": 16,
    "lenVar": 40
   },
   "kernels_config": {
    "python": {
     "delete_cmd_postfix": "",
     "delete_cmd_prefix": "del ",
     "library": "var_list.py",
     "varRefreshCmd": "print(var_dic_list())"
    },
    "r": {
     "delete_cmd_postfix": ") ",
     "delete_cmd_prefix": "rm(",
     "library": "var_list.r",
     "varRefreshCmd": "cat(var_dic_list()) "
    }
   },
   "types_to_exclude": [
    "module",
    "function",
    "builtin_function_or_method",
    "instance",
    "_Feature"
   ],
   "window_display": false
  }
 },
 "nbformat": 4,
 "nbformat_minor": 4
}
