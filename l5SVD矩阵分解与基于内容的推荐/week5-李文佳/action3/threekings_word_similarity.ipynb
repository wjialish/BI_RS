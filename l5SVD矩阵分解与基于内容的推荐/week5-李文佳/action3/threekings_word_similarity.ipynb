{
 "cells": [
  {
   "cell_type": "code",
   "execution_count": 11,
   "metadata": {},
   "outputs": [],
   "source": [
    "#将word转换为Vec，然后计算相似度\n",
    "from gensim.models import word2vec\n",
    "import multiprocessing"
   ]
  },
  {
   "cell_type": "code",
   "execution_count": 12,
   "metadata": {},
   "outputs": [],
   "source": [
    "#如果目录中有多个文件，可以使用PathLineSentences\n",
    "#sentences = word2vec.PathLineSentences('./segment')\n",
    "sentences = word2vec.LineSentence('./segment/segment_0.txt')"
   ]
  },
  {
   "cell_type": "code",
   "execution_count": 13,
   "metadata": {},
   "outputs": [
    {
     "name": "stdout",
     "output_type": "stream",
     "text": [
      "0.98728466\n"
     ]
    }
   ],
   "source": [
    "#设置模型参数，进行训练\n",
    "model = word2vec.Word2Vec(sentences,size=100,window=3,min_count=1)\n",
    "print(model.wv.similarity('曹操','刘备'))\n"
   ]
  },
  {
   "cell_type": "code",
   "execution_count": 30,
   "metadata": {},
   "outputs": [
    {
     "name": "stdout",
     "output_type": "stream",
     "text": [
      "0.85148597\n",
      "0.98811126\n"
     ]
    }
   ],
   "source": [
    "# 设置模型参数，进行训练\n",
    "model2 = word2vec.Word2Vec(sentences,size=200,window=5,min_count=5,workers=multiprocessing.cpu_count())\n",
    "print(model2.wv.similarity('曹操','刘备'))\n",
    "print(model2.wv.similarity('曹操','孙权'))"
   ]
  },
  {
   "cell_type": "code",
   "execution_count": 20,
   "metadata": {},
   "outputs": [],
   "source": [
    "# 保存模型\n",
    "model2.save('./models/word2vec.model')\n"
   ]
  },
  {
   "cell_type": "code",
   "execution_count": 28,
   "metadata": {},
   "outputs": [
    {
     "name": "stdout",
     "output_type": "stream",
     "text": [
      "[('今', 0.9894760847091675), ('吾', 0.9888936877250671), ('丞相', 0.9874130487442017), ('臣', 0.9868269562721252), ('庸才', 0.9856023788452148), ('之见', 0.9850391149520874), ('我本', 0.9849332571029663), ('何人', 0.9836564660072327), ('主公', 0.9832013845443726), ('朕', 0.9825952649116516)]\n"
     ]
    }
   ],
   "source": [
    "print(model2.wv.most_similar(positive=['曹操','刘备'],negative=['张飞']))"
   ]
  },
  {
   "cell_type": "code",
   "execution_count": 29,
   "metadata": {
    "scrolled": true
   },
   "outputs": [
    {
     "name": "stdout",
     "output_type": "stream",
     "text": [
      "[('孙权', 0.9883694648742676), ('先主', 0.9860553741455078), ('周瑜', 0.9858660697937012), ('关公', 0.9837260842323303), ('众将', 0.9825695157051086), ('往', 0.98238205909729), ('行事', 0.9815100431442261), ('叩头', 0.9793460369110107), ('妖人', 0.9784250259399414), ('拜谢', 0.978248119354248)]\n"
     ]
    }
   ],
   "source": [
    "print(model2.wv.similar_by_word('曹操'))"
   ]
  },
  {
   "cell_type": "code",
   "execution_count": null,
   "metadata": {},
   "outputs": [],
   "source": []
  }
 ],
 "metadata": {
  "kernelspec": {
   "display_name": "Python 3",
   "language": "python",
   "name": "python3"
  },
  "language_info": {
   "codemirror_mode": {
    "name": "ipython",
    "version": 3
   },
   "file_extension": ".py",
   "mimetype": "text/x-python",
   "name": "python",
   "nbconvert_exporter": "python",
   "pygments_lexer": "ipython3",
   "version": "3.7.3"
  }
 },
 "nbformat": 4,
 "nbformat_minor": 2
}
