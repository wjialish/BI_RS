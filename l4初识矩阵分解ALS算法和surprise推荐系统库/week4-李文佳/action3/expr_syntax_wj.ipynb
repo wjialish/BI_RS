{
 "cells": [
  {
   "cell_type": "code",
   "execution_count": 82,
   "metadata": {
    "ExecuteTime": {
     "end_time": "2020-11-28T09:52:23.848863Z",
     "start_time": "2020-11-28T09:52:23.846116Z"
    }
   },
   "outputs": [],
   "source": [
    "import random"
   ]
  },
  {
   "cell_type": "code",
   "execution_count": 87,
   "metadata": {
    "ExecuteTime": {
     "end_time": "2020-11-28T09:52:42.305380Z",
     "start_time": "2020-11-28T09:52:42.302837Z"
    }
   },
   "outputs": [],
   "source": [
    "#定语从句语法\n",
    "host = \"\"\"\n",
    "host = 寒暄 报数 询问 具体业务 结尾 \n",
    "报数 = 我是工号 数字 号 ,\n",
    "数字 = 单个数字 | 数字 单个数字 \n",
    "单个数字 = 1 | 2 | 3 | 4 | 5 | 6 | 7 | 8 | 9 \n",
    "寒暄 = 称谓 打招呼 | 打招呼\n",
    "称谓 = 人称 ,\n",
    "人称 = 先生 | 女士 | 小朋友\n",
    "打招呼 = 你好 | 您好 \n",
    "询问 = 请问你要 | 您需要\n",
    "具体业务 = 办信用卡| 账单分期| 充话费| 买手机｜买基金 \n",
    "结尾 = 吗？\"\"\"\n"
   ]
  },
  {
   "cell_type": "code",
   "execution_count": 88,
   "metadata": {
    "ExecuteTime": {
     "end_time": "2020-11-28T09:52:42.693371Z",
     "start_time": "2020-11-28T09:52:42.687517Z"
    }
   },
   "outputs": [],
   "source": [
    "#得到语法字典\n",
    "def getGrammerDict(host,linesplit=\"\\n\",gramsplit=\"=\"):\n",
    "    #定义字典\n",
    "    result = {}\n",
    "    for line in host.split(linesplit):\n",
    "        # 去掉首尾空格后，如果为空则退出\n",
    "        if not line.strip():\n",
    "            continue\n",
    "        expr,statement = line.split(gramsplit)\n",
    "        result[expr.strip()]=[i.split() for i in statement.split(\"|\")]\n",
    "    #print(result)\n",
    "    return result"
   ]
  },
  {
   "cell_type": "code",
   "execution_count": 89,
   "metadata": {
    "ExecuteTime": {
     "end_time": "2020-11-28T09:52:43.155751Z",
     "start_time": "2020-11-28T09:52:43.149616Z"
    }
   },
   "outputs": [],
   "source": [
    "# 生成句子\n",
    "def generate(gramdict,target,isEng=False):\n",
    "    if target not in gramdict:\n",
    "        return target\n",
    "    find = random.choice(gramdict[target])\n",
    "    #print(find)\n",
    "    blank = ''\n",
    "    # 如果是英文中间间隔为空格\n",
    "    if isEng:\n",
    "        blank = ' '\n",
    "    return blank.join(generate(gramdict,t,isEng) for t in find)"
   ]
  },
  {
   "cell_type": "code",
   "execution_count": 91,
   "metadata": {
    "ExecuteTime": {
     "end_time": "2020-11-28T09:52:58.298185Z",
     "start_time": "2020-11-28T09:52:58.294469Z"
    }
   },
   "outputs": [
    {
     "name": "stdout",
     "output_type": "stream",
     "text": [
      "您好我是工号4号,请问你要充话费吗？\n",
      "先生 , 您好 我是工号 8 6 号 , 您需要 账单分期 吗？\n"
     ]
    }
   ],
   "source": [
    "gramdict = getGrammerDict(host)\n",
    "print(generate(gramdict,\"host\"))\n",
    "print(generate(gramdict,\"host\",True))\n"
   ]
  },
  {
   "cell_type": "code",
   "execution_count": null,
   "metadata": {},
   "outputs": [],
   "source": []
  }
 ],
 "metadata": {
  "kernelspec": {
   "display_name": "Python 3",
   "language": "python",
   "name": "python3"
  },
  "language_info": {
   "codemirror_mode": {
    "name": "ipython",
    "version": 3
   },
   "file_extension": ".py",
   "mimetype": "text/x-python",
   "name": "python",
   "nbconvert_exporter": "python",
   "pygments_lexer": "ipython3",
   "version": "3.7.3"
  },
  "toc": {
   "base_numbering": 1,
   "nav_menu": {},
   "number_sections": true,
   "sideBar": true,
   "skip_h1_title": false,
   "title_cell": "Table of Contents",
   "title_sidebar": "Contents",
   "toc_cell": false,
   "toc_position": {},
   "toc_section_display": true,
   "toc_window_display": false
  },
  "varInspector": {
   "cols": {
    "lenName": 16,
    "lenType": 16,
    "lenVar": 40
   },
   "kernels_config": {
    "python": {
     "delete_cmd_postfix": "",
     "delete_cmd_prefix": "del ",
     "library": "var_list.py",
     "varRefreshCmd": "print(var_dic_list())"
    },
    "r": {
     "delete_cmd_postfix": ") ",
     "delete_cmd_prefix": "rm(",
     "library": "var_list.r",
     "varRefreshCmd": "cat(var_dic_list()) "
    }
   },
   "types_to_exclude": [
    "module",
    "function",
    "builtin_function_or_method",
    "instance",
    "_Feature"
   ],
   "window_display": false
  }
 },
 "nbformat": 4,
 "nbformat_minor": 2
}
