{
 "cells": [
  {
   "cell_type": "code",
   "execution_count": 18,
   "metadata": {
    "ExecuteTime": {
     "end_time": "2020-11-27T16:57:11.431345Z",
     "start_time": "2020-11-27T16:57:11.427614Z"
    }
   },
   "outputs": [],
   "source": [
    "from surprise import Reader\n",
    "from surprise import Dataset\n",
    "from surprise import BaselineOnly\n",
    "from surprise.model_selection import KFold\n",
    "from surprise import accuracy"
   ]
  },
  {
   "cell_type": "code",
   "execution_count": 5,
   "metadata": {
    "ExecuteTime": {
     "end_time": "2020-11-27T16:37:10.428280Z",
     "start_time": "2020-11-27T16:37:06.985272Z"
    }
   },
   "outputs": [],
   "source": [
    "# 数据读取\n",
    "reader = Reader(line_format='user item rating timestamp',sep=',',skip_lines=1)\n",
    "data = Dataset.load_from_file('./ratings.csv',reader=reader)\n",
    "train_set = data.build_full_trainset()"
   ]
  },
  {
   "cell_type": "markdown",
   "metadata": {},
   "source": [
    "# BaselineOnly算法 ALS优化"
   ]
  },
  {
   "cell_type": "code",
   "execution_count": 22,
   "metadata": {
    "ExecuteTime": {
     "end_time": "2020-11-27T17:01:42.064422Z",
     "start_time": "2020-11-27T17:01:42.060478Z"
    }
   },
   "outputs": [],
   "source": [
    "\n",
    "bsl_options_als = {'method':'als','n_epochs':5,'reg_u':12,'reg_i':5}\n",
    "als_algo = BaselineOnly(bsl_options=bsl_options_als)"
   ]
  },
  {
   "cell_type": "code",
   "execution_count": 23,
   "metadata": {
    "ExecuteTime": {
     "end_time": "2020-11-27T17:02:08.514166Z",
     "start_time": "2020-11-27T17:01:43.728424Z"
    }
   },
   "outputs": [
    {
     "name": "stdout",
     "output_type": "stream",
     "text": [
      "Estimating biases using als...\n",
      "RMSE: 0.8647\n",
      "Estimating biases using als...\n",
      "RMSE: 0.8649\n",
      "Estimating biases using als...\n",
      "RMSE: 0.8619\n"
     ]
    }
   ],
   "source": [
    "# 定义K折交叉验证迭代器，k=3\n",
    "kf = KFold(n_splits=3)\n",
    "for trainset,testset in kf.split(data):\n",
    "    # 训练并预测\n",
    "    als_algo.fit(trainset)\n",
    "    predictions = als_algo.test(testset)\n",
    "    # 计算RSMSE\n",
    "    accuracy.rmse(predictions,verbose=True)"
   ]
  },
  {
   "cell_type": "code",
   "execution_count": 25,
   "metadata": {
    "ExecuteTime": {
     "end_time": "2020-11-27T17:03:21.940221Z",
     "start_time": "2020-11-27T17:03:21.935095Z"
    }
   },
   "outputs": [
    {
     "name": "stdout",
     "output_type": "stream",
     "text": [
      "user: 196        item: 302        r_ui = 4.00   est = 4.16   {'was_impossible': False}\n"
     ]
    }
   ],
   "source": [
    "uid = str(196)\n",
    "iid = str(302)\n",
    "# 输出uid对iid的预测结果\n",
    "pred = als_algo.predict(uid,iid,r_ui=4,verbose=True)"
   ]
  },
  {
   "cell_type": "markdown",
   "metadata": {},
   "source": [
    "# BaselineOnly算法 SGD优化"
   ]
  },
  {
   "cell_type": "code",
   "execution_count": 26,
   "metadata": {
    "ExecuteTime": {
     "end_time": "2020-11-27T17:03:48.227558Z",
     "start_time": "2020-11-27T17:03:48.223529Z"
    }
   },
   "outputs": [],
   "source": [
    "bsl_options_sgd = {'method':'sgd','n_epochs':5}\n",
    "sgd_algo = BaselineOnly(bsl_options=bsl_options_sgd)"
   ]
  },
  {
   "cell_type": "code",
   "execution_count": 27,
   "metadata": {
    "ExecuteTime": {
     "end_time": "2020-11-27T17:05:26.173230Z",
     "start_time": "2020-11-27T17:05:02.440385Z"
    }
   },
   "outputs": [
    {
     "name": "stdout",
     "output_type": "stream",
     "text": [
      "Estimating biases using sgd...\n",
      "RMSE: 0.8736\n",
      "Estimating biases using sgd...\n",
      "RMSE: 0.8734\n",
      "Estimating biases using sgd...\n",
      "RMSE: 0.8761\n"
     ]
    }
   ],
   "source": [
    "# 定义K折交叉验证迭代器，k=3\n",
    "kf = KFold(n_splits=3)\n",
    "for trainset,testset in kf.split(data):\n",
    "    # 训练并预测\n",
    "    sgd_algo.fit(trainset)\n",
    "    predictions = sgd_algo.test(testset)\n",
    "    # 计算RSMSE\n",
    "    accuracy.rmse(predictions,verbose=True)"
   ]
  },
  {
   "cell_type": "code",
   "execution_count": 28,
   "metadata": {
    "ExecuteTime": {
     "end_time": "2020-11-27T17:05:50.145735Z",
     "start_time": "2020-11-27T17:05:50.140275Z"
    }
   },
   "outputs": [
    {
     "name": "stdout",
     "output_type": "stream",
     "text": [
      "user: 196        item: 302        r_ui = 4.00   est = 4.02   {'was_impossible': False}\n"
     ]
    }
   ],
   "source": [
    "uid = str(196)\n",
    "iid = str(302)\n",
    "# 输出uid对iid的预测结果\n",
    "pred = sgd_algo.predict(uid,iid,r_ui=4,verbose=True)"
   ]
  },
  {
   "cell_type": "code",
   "execution_count": null,
   "metadata": {},
   "outputs": [],
   "source": []
  }
 ],
 "metadata": {
  "kernelspec": {
   "display_name": "Python 3",
   "language": "python",
   "name": "python3"
  },
  "language_info": {
   "codemirror_mode": {
    "name": "ipython",
    "version": 3
   },
   "file_extension": ".py",
   "mimetype": "text/x-python",
   "name": "python",
   "nbconvert_exporter": "python",
   "pygments_lexer": "ipython3",
   "version": "3.7.3"
  },
  "toc": {
   "base_numbering": 1,
   "nav_menu": {},
   "number_sections": true,
   "sideBar": true,
   "skip_h1_title": false,
   "title_cell": "Table of Contents",
   "title_sidebar": "Contents",
   "toc_cell": false,
   "toc_position": {},
   "toc_section_display": true,
   "toc_window_display": false
  },
  "varInspector": {
   "cols": {
    "lenName": 16,
    "lenType": 16,
    "lenVar": 40
   },
   "kernels_config": {
    "python": {
     "delete_cmd_postfix": "",
     "delete_cmd_prefix": "del ",
     "library": "var_list.py",
     "varRefreshCmd": "print(var_dic_list())"
    },
    "r": {
     "delete_cmd_postfix": ") ",
     "delete_cmd_prefix": "rm(",
     "library": "var_list.r",
     "varRefreshCmd": "cat(var_dic_list()) "
    }
   },
   "types_to_exclude": [
    "module",
    "function",
    "builtin_function_or_method",
    "instance",
    "_Feature"
   ],
   "window_display": false
  }
 },
 "nbformat": 4,
 "nbformat_minor": 2
}
