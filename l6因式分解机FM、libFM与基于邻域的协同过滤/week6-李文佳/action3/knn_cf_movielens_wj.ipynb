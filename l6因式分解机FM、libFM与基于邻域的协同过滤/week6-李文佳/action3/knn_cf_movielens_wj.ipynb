{
 "cells": [
  {
   "cell_type": "code",
   "execution_count": 11,
   "metadata": {},
   "outputs": [],
   "source": [
    "from surprise import Dataset,Reader\n",
    "from surprise import KNNBasic,KNNWithMeans,KNNWithZScore,KNNBaseline\n",
    "from surprise.model_selection import KFold\n",
    "from surprise import accuracy"
   ]
  },
  {
   "cell_type": "code",
   "execution_count": 10,
   "metadata": {},
   "outputs": [
    {
     "name": "stdout",
     "output_type": "stream",
     "text": [
      "Computing the msd similarity matrix...\n",
      "Done computing similarity matrix.\n",
      "RMSE: 0.8556\n",
      "MAE:  0.6546\n",
      "Computing the msd similarity matrix...\n",
      "Done computing similarity matrix.\n",
      "RMSE: 0.8560\n",
      "MAE:  0.6543\n",
      "Computing the msd similarity matrix...\n",
      "Done computing similarity matrix.\n",
      "RMSE: 0.8575\n",
      "MAE:  0.6556\n",
      "user: 196        item: 302        r_ui = 4.00   est = 4.19   {'actual_k': 50, 'was_impossible': False}\n"
     ]
    }
   ],
   "source": [
    "reader = Reader(line_format='user item rating timestamp', sep=',', skip_lines=1)\n",
    "data = Dataset.load_from_file('./ratings.csv', reader=reader)\n",
    "# trainset = data.build_full_trainset()\n",
    "\n",
    "# ItemCF 计算得分\n",
    "# 取最相似的用户计算时，只取最相似的k个\n",
    "# KNNWithMeans\n",
    "algo = KNNWithMeans(k=50, sim_options={'user_based': False, 'verbose': 'True'})\n",
    "\n",
    "# 定义K折交叉验证迭代器，K=3\n",
    "kf = KFold(n_splits=3)\n",
    "# k 值越大，泛化结果越好，但是时间也越长\n",
    "for trainset,testset in kf.split(data):\n",
    "    # 训练并测试\n",
    "    algo.fit(trainset)\n",
    "    predictions = algo.test(testset)\n",
    "    # 计算RSME\n",
    "    accuracy.rmse(predictions,verbose=True)\n",
    "    accuracy.mae(predictions,verbose=True)\n",
    "\n",
    "# 196这个用户对于302这个电影的预测分数是怎么样的\n",
    "uid = str(196)\n",
    "iid = str(302)\n",
    "#输出uid对iid的预测结果，原来的实际值r_ui是4分\n",
    "pred = algo.predict(uid,iid,r_ui=4,verbose=True)\n"
   ]
  },
  {
   "cell_type": "code",
   "execution_count": 12,
   "metadata": {},
   "outputs": [
    {
     "name": "stdout",
     "output_type": "stream",
     "text": [
      "Computing the msd similarity matrix...\n",
      "Done computing similarity matrix.\n",
      "RMSE: 0.8972\n",
      "MAE:  0.6901\n",
      "Computing the msd similarity matrix...\n",
      "Done computing similarity matrix.\n",
      "RMSE: 0.8947\n",
      "MAE:  0.6881\n",
      "Computing the msd similarity matrix...\n",
      "Done computing similarity matrix.\n",
      "RMSE: 0.8948\n",
      "MAE:  0.6890\n",
      "user: 196        item: 302        r_ui = 4.00   est = 3.80   {'actual_k': 50, 'was_impossible': False}\n"
     ]
    }
   ],
   "source": [
    "# KNNBasic\n",
    "algo = KNNBasic(k=50, sim_options={'user_based': False, 'verbose': 'True'})\n",
    "\n",
    "# 定义K折交叉验证迭代器，K=3\n",
    "kf = KFold(n_splits=3)\n",
    "# k 值越大，泛化结果越好，但是时间也越长\n",
    "for trainset,testset in kf.split(data):\n",
    "    # 训练并测试\n",
    "    algo.fit(trainset)\n",
    "    predictions = algo.test(testset)\n",
    "    # 计算RSME\n",
    "    accuracy.rmse(predictions,verbose=True)\n",
    "    accuracy.mae(predictions,verbose=True)\n",
    "\n",
    "# 196这个用户对于302这个电影的预测分数是怎么样的\n",
    "uid = str(196)\n",
    "iid = str(302)\n",
    "#输出uid对iid的预测结果，原来的实际值r_ui是4分\n",
    "pred = algo.predict(uid,iid,r_ui=4,verbose=True)"
   ]
  },
  {
   "cell_type": "code",
   "execution_count": null,
   "metadata": {},
   "outputs": [
    {
     "name": "stdout",
     "output_type": "stream",
     "text": [
      "Computing the msd similarity matrix...\n",
      "Done computing similarity matrix.\n",
      "RMSE: 0.8568\n",
      "MAE:  0.6546\n",
      "Computing the msd similarity matrix...\n",
      "Done computing similarity matrix.\n",
      "RMSE: 0.8615\n",
      "MAE:  0.6565\n"
     ]
    }
   ],
   "source": [
    "# KNNWithZScore\n",
    "algo = KNNWithZScore(k=50, sim_options={'user_based': False, 'verbose': 'True'})\n",
    "\n",
    "# 定义K折交叉验证迭代器，K=3\n",
    "kf = KFold(n_splits=3)\n",
    "# k 值越大，泛化结果越好，但是时间也越长\n",
    "for trainset,testset in kf.split(data):\n",
    "    # 训练并测试\n",
    "    algo.fit(trainset)\n",
    "    predictions = algo.test(testset)\n",
    "    # 计算RSME\n",
    "    accuracy.rmse(predictions,verbose=True)\n",
    "    accuracy.mae(predictions,verbose=True)\n",
    "\n",
    "# 196这个用户对于302这个电影的预测分数是怎么样的\n",
    "uid = str(196)\n",
    "iid = str(302)\n",
    "#输出uid对iid的预测结果，原来的实际值r_ui是4分\n",
    "pred = algo.predict(uid,iid,r_ui=4,verbose=True)"
   ]
  },
  {
   "cell_type": "code",
   "execution_count": null,
   "metadata": {},
   "outputs": [],
   "source": [
    "# KNNBaseline\n",
    "algo = KNNBaseline(k=50, sim_options={'user_based': False, 'verbose': 'True'})\n",
    "\n",
    "# 定义K折交叉验证迭代器，K=3\n",
    "kf = KFold(n_splits=3)\n",
    "# k 值越大，泛化结果越好，但是时间也越长\n",
    "for trainset,testset in kf.split(data):\n",
    "    # 训练并测试\n",
    "    algo.fit(trainset)\n",
    "    predictions = algo.test(testset)\n",
    "    # 计算RSME\n",
    "    accuracy.rmse(predictions,verbose=True)\n",
    "    accuracy.mae(predictions,verbose=True)\n",
    "\n",
    "# 196这个用户对于302这个电影的预测分数是怎么样的\n",
    "uid = str(196)\n",
    "iid = str(302)\n",
    "#输出uid对iid的预测结果，原来的实际值r_ui是4分\n",
    "pred = algo.predict(uid,iid,r_ui=4,verbose=True)"
   ]
  },
  {
   "cell_type": "code",
   "execution_count": null,
   "metadata": {},
   "outputs": [],
   "source": []
  }
 ],
 "metadata": {
  "kernelspec": {
   "display_name": "Python 3",
   "language": "python",
   "name": "python3"
  },
  "language_info": {
   "codemirror_mode": {
    "name": "ipython",
    "version": 3
   },
   "file_extension": ".py",
   "mimetype": "text/x-python",
   "name": "python",
   "nbconvert_exporter": "python",
   "pygments_lexer": "ipython3",
   "version": "3.7.3"
  }
 },
 "nbformat": 4,
 "nbformat_minor": 2
}
