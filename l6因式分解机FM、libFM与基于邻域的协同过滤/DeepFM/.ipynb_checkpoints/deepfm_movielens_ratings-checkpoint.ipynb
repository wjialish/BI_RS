{
 "cells": [
  {
   "cell_type": "code",
   "execution_count": 40,
   "metadata": {},
   "outputs": [],
   "source": [
    "import pandas as pd\n",
    "from sklearn.preprocessing import LabelEncoder\n",
    "from deepctr.inputs import SparseFeat,get_feature_names\n",
    "from sklearn.model_selection import train_test_split\n",
    "import numpy as np\n",
    "from deepctr.models import DeepFM\n",
    "from sklearn.metrics import mean_squared_error"
   ]
  },
  {
   "cell_type": "code",
   "execution_count": 44,
   "metadata": {},
   "outputs": [
    {
     "name": "stdout",
     "output_type": "stream",
     "text": [
      "(200, 10)\n"
     ]
    }
   ],
   "source": [
    "\n",
    "#数据加载\n",
    "data = pd.read_csv('movielens_sample.txt')\n",
    "print(data.shape)\n",
    "sparse_features = ['movie_id','user_id','timestamp','title','genres','gender','age','occupation','zip']\n",
    "target = ['rating']\n",
    "data = pd.DataFrame(data)\n",
    "#data.drop('user_id',axis=1,inplace=True)\n",
    "#print(data)"
   ]
  },
  {
   "cell_type": "code",
   "execution_count": 45,
   "metadata": {},
   "outputs": [],
   "source": [
    "\n",
    "#对标签进行编码\n",
    "for feature in sparse_features:\n",
    "    lbe = LabelEncoder()\n",
    "    data[feature] = lbe.fit_transform(data[feature])\n"
   ]
  },
  {
   "cell_type": "code",
   "execution_count": 54,
   "metadata": {},
   "outputs": [],
   "source": [
    "\n",
    "# 计算每个特征中的 不同特征值的个数\n",
    "fixlen_feature_columns = [SparseFeat(feature, data[feature].nunique()) for feature in sparse_features]\n",
    "linear_feature_columns = fixlen_feature_columns\n",
    "dnn_feature_columns = fixlen_feature_columns\n",
    "feature_names = get_feature_names(linear_feature_columns + dnn_feature_columns)\n"
   ]
  },
  {
   "cell_type": "code",
   "execution_count": 55,
   "metadata": {},
   "outputs": [],
   "source": [
    "\n",
    "# 将数据集切分为训练集和测试集\n",
    "#data = np.loadtxt('movielens_sample.txt',dtype=object)\n",
    "train, test = train_test_split(data,test_size=0.2)\n",
    "# print(train)\n",
    "# print('------------------')\n",
    "# print(test)\n",
    "# np.savetxt('movielens_smaple_train.txt',train,delimiter=',')\n",
    "# np.savetxt('movielens_smaple_test.txt',test,delimiter=',')\n",
    "train_model_input = {name:train[name].values for name in feature_names}\n",
    "test_model_input = {name:test[name].values for name in feature_names}\n"
   ]
  },
  {
   "cell_type": "code",
   "execution_count": 56,
   "metadata": {},
   "outputs": [
    {
     "name": "stdout",
     "output_type": "stream",
     "text": [
      "WARNING:tensorflow:Entity <bound method Linear.call of <deepctr.layers.utils.Linear object at 0x1a40f20710>> could not be transformed and will be executed as-is. Please report this to the AutgoGraph team. When filing the bug, set the verbosity to 10 (on Linux, `export AUTOGRAPH_VERBOSITY=10`) and attach the full output. Cause: converting <bound method Linear.call of <deepctr.layers.utils.Linear object at 0x1a40f20710>>: AttributeError: module 'gast' has no attribute 'Str'\n"
     ]
    },
    {
     "name": "stderr",
     "output_type": "stream",
     "text": [
      "WARNING:tensorflow:Entity <bound method Linear.call of <deepctr.layers.utils.Linear object at 0x1a40f20710>> could not be transformed and will be executed as-is. Please report this to the AutgoGraph team. When filing the bug, set the verbosity to 10 (on Linux, `export AUTOGRAPH_VERBOSITY=10`) and attach the full output. Cause: converting <bound method Linear.call of <deepctr.layers.utils.Linear object at 0x1a40f20710>>: AttributeError: module 'gast' has no attribute 'Str'\n"
     ]
    },
    {
     "name": "stdout",
     "output_type": "stream",
     "text": [
      "WARNING: Entity <bound method Linear.call of <deepctr.layers.utils.Linear object at 0x1a40f20710>> could not be transformed and will be executed as-is. Please report this to the AutgoGraph team. When filing the bug, set the verbosity to 10 (on Linux, `export AUTOGRAPH_VERBOSITY=10`) and attach the full output. Cause: converting <bound method Linear.call of <deepctr.layers.utils.Linear object at 0x1a40f20710>>: AttributeError: module 'gast' has no attribute 'Str'\n",
      "WARNING:tensorflow:Entity <bound method FM.call of <deepctr.layers.interaction.FM object at 0x1a40f27e48>> could not be transformed and will be executed as-is. Please report this to the AutgoGraph team. When filing the bug, set the verbosity to 10 (on Linux, `export AUTOGRAPH_VERBOSITY=10`) and attach the full output. Cause: converting <bound method FM.call of <deepctr.layers.interaction.FM object at 0x1a40f27e48>>: AssertionError: Bad argument number for Name: 3, expecting 4\n"
     ]
    },
    {
     "name": "stderr",
     "output_type": "stream",
     "text": [
      "WARNING:tensorflow:Entity <bound method FM.call of <deepctr.layers.interaction.FM object at 0x1a40f27e48>> could not be transformed and will be executed as-is. Please report this to the AutgoGraph team. When filing the bug, set the verbosity to 10 (on Linux, `export AUTOGRAPH_VERBOSITY=10`) and attach the full output. Cause: converting <bound method FM.call of <deepctr.layers.interaction.FM object at 0x1a40f27e48>>: AssertionError: Bad argument number for Name: 3, expecting 4\n"
     ]
    },
    {
     "name": "stdout",
     "output_type": "stream",
     "text": [
      "WARNING: Entity <bound method FM.call of <deepctr.layers.interaction.FM object at 0x1a40f27e48>> could not be transformed and will be executed as-is. Please report this to the AutgoGraph team. When filing the bug, set the verbosity to 10 (on Linux, `export AUTOGRAPH_VERBOSITY=10`) and attach the full output. Cause: converting <bound method FM.call of <deepctr.layers.interaction.FM object at 0x1a40f27e48>>: AssertionError: Bad argument number for Name: 3, expecting 4\n",
      "WARNING:tensorflow:Entity <bound method DNN.call of <deepctr.layers.core.DNN object at 0x1a41071a90>> could not be transformed and will be executed as-is. Please report this to the AutgoGraph team. When filing the bug, set the verbosity to 10 (on Linux, `export AUTOGRAPH_VERBOSITY=10`) and attach the full output. Cause: converting <bound method DNN.call of <deepctr.layers.core.DNN object at 0x1a41071a90>>: AttributeError: module 'gast' has no attribute 'Num'\n"
     ]
    },
    {
     "name": "stderr",
     "output_type": "stream",
     "text": [
      "WARNING:tensorflow:Entity <bound method DNN.call of <deepctr.layers.core.DNN object at 0x1a41071a90>> could not be transformed and will be executed as-is. Please report this to the AutgoGraph team. When filing the bug, set the verbosity to 10 (on Linux, `export AUTOGRAPH_VERBOSITY=10`) and attach the full output. Cause: converting <bound method DNN.call of <deepctr.layers.core.DNN object at 0x1a41071a90>>: AttributeError: module 'gast' has no attribute 'Num'\n"
     ]
    },
    {
     "name": "stdout",
     "output_type": "stream",
     "text": [
      "WARNING: Entity <bound method DNN.call of <deepctr.layers.core.DNN object at 0x1a41071a90>> could not be transformed and will be executed as-is. Please report this to the AutgoGraph team. When filing the bug, set the verbosity to 10 (on Linux, `export AUTOGRAPH_VERBOSITY=10`) and attach the full output. Cause: converting <bound method DNN.call of <deepctr.layers.core.DNN object at 0x1a41071a90>>: AttributeError: module 'gast' has no attribute 'Num'\n",
      "WARNING:tensorflow:Entity <bound method PredictionLayer.call of <deepctr.layers.core.PredictionLayer object at 0x1a410569b0>> could not be transformed and will be executed as-is. Please report this to the AutgoGraph team. When filing the bug, set the verbosity to 10 (on Linux, `export AUTOGRAPH_VERBOSITY=10`) and attach the full output. Cause: converting <bound method PredictionLayer.call of <deepctr.layers.core.PredictionLayer object at 0x1a410569b0>>: AssertionError: Bad argument number for Name: 3, expecting 4\n"
     ]
    },
    {
     "name": "stderr",
     "output_type": "stream",
     "text": [
      "WARNING:tensorflow:Entity <bound method PredictionLayer.call of <deepctr.layers.core.PredictionLayer object at 0x1a410569b0>> could not be transformed and will be executed as-is. Please report this to the AutgoGraph team. When filing the bug, set the verbosity to 10 (on Linux, `export AUTOGRAPH_VERBOSITY=10`) and attach the full output. Cause: converting <bound method PredictionLayer.call of <deepctr.layers.core.PredictionLayer object at 0x1a410569b0>>: AssertionError: Bad argument number for Name: 3, expecting 4\n"
     ]
    },
    {
     "name": "stdout",
     "output_type": "stream",
     "text": [
      "WARNING: Entity <bound method PredictionLayer.call of <deepctr.layers.core.PredictionLayer object at 0x1a410569b0>> could not be transformed and will be executed as-is. Please report this to the AutgoGraph team. When filing the bug, set the verbosity to 10 (on Linux, `export AUTOGRAPH_VERBOSITY=10`) and attach the full output. Cause: converting <bound method PredictionLayer.call of <deepctr.layers.core.PredictionLayer object at 0x1a410569b0>>: AssertionError: Bad argument number for Name: 3, expecting 4\n",
      "Train on 128 samples, validate on 32 samples\n",
      "128/128 [==============================] - 1s 9ms/sample - loss: 14.8284 - mean_squared_error: 14.8284 - val_loss: 13.9443 - val_mean_squared_error: 13.9443\n"
     ]
    }
   ],
   "source": [
    "\n",
    "#使用DeepFM进行训练\n",
    "model = DeepFM(linear_feature_columns,dnn_feature_columns,task='regression')\n",
    "# adam 一种优化算法，和SGD\n",
    "model.compile('adam','mse',metrics=['mse'],)\n",
    "history = model.fit(train_model_input,train[target].values,batch_size=256,epochs=1,verbose=True,validation_split=0.2)\n"
   ]
  },
  {
   "cell_type": "code",
   "execution_count": 58,
   "metadata": {},
   "outputs": [
    {
     "name": "stdout",
     "output_type": "stream",
     "text": [
      "[[0.01642076]\n",
      " [0.01533059]\n",
      " [0.01658849]\n",
      " [0.01617937]\n",
      " [0.01653543]\n",
      " [0.01656246]\n",
      " [0.01887492]\n",
      " [0.0155005 ]\n",
      " [0.01600112]\n",
      " [0.01617375]\n",
      " [0.01885914]\n",
      " [0.01609518]\n",
      " [0.01498621]\n",
      " [0.01796584]\n",
      " [0.0155289 ]\n",
      " [0.0158686 ]\n",
      " [0.01623505]\n",
      " [0.01505898]\n",
      " [0.01704735]\n",
      " [0.01682058]\n",
      " [0.01638891]\n",
      " [0.01627044]\n",
      " [0.01566149]\n",
      " [0.01632046]\n",
      " [0.02118386]\n",
      " [0.01838772]\n",
      " [0.01663385]\n",
      " [0.01673794]\n",
      " [0.0153293 ]\n",
      " [0.01624464]\n",
      " [0.01777789]\n",
      " [0.01605575]\n",
      " [0.01564281]\n",
      " [0.01527464]\n",
      " [0.01577004]\n",
      " [0.01914633]\n",
      " [0.01568568]\n",
      " [0.01581529]\n",
      " [0.01557697]\n",
      " [0.01510643]]\n"
     ]
    }
   ],
   "source": [
    "\n",
    "# 使用DeepFM进行预测\n",
    "pre_ans = model.predict(test_model_input,batch_size=256)\n",
    "print(pre_ans)\n"
   ]
  },
  {
   "cell_type": "code",
   "execution_count": 59,
   "metadata": {},
   "outputs": [
    {
     "name": "stdout",
     "output_type": "stream",
     "text": [
      "test RMSE 3.448448926691535\n"
     ]
    }
   ],
   "source": [
    "#输出RMSE或MSE\n",
    "mse = round(mean_squared_error(test[target].values,pre_ans),4)\n",
    "rmse = mse ** 0.5\n",
    "print('test RMSE',rmse)"
   ]
  },
  {
   "cell_type": "code",
   "execution_count": null,
   "metadata": {},
   "outputs": [],
   "source": []
  }
 ],
 "metadata": {
  "kernelspec": {
   "display_name": "Python 3",
   "language": "python",
   "name": "python3"
  },
  "language_info": {
   "codemirror_mode": {
    "name": "ipython",
    "version": 3
   },
   "file_extension": ".py",
   "mimetype": "text/x-python",
   "name": "python",
   "nbconvert_exporter": "python",
   "pygments_lexer": "ipython3",
   "version": "3.7.3"
  }
 },
 "nbformat": 4,
 "nbformat_minor": 2
}
